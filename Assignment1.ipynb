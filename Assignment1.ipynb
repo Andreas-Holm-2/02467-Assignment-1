{
 "cells": [
  {
   "cell_type": "markdown",
   "metadata": {},
   "source": [
    "| Assignment 1 contribution table   | Teis Aggerholm (s234822) | Andreas Holm Matthiassen (s234838) | Hector Helt Jakobsen (s234822) |\n",
    "|-------------|---------|---------|---------|\n",
    "| Part 1 | 100%     | 0%     | 0%     |\n",
    "| Part 2 | 100%     | 0%     | 0%     |\n",
    "| Part 3 | 0%     | 0%     | 100%     |\n",
    "| Part 4 | 0%     | 100%     | 0%     |"
   ]
  },
  {
   "cell_type": "markdown",
   "metadata": {},
   "source": [
    "Link to our GitHub repository: `https://github.com/Andreas-Holm-2/02467-Assignment-1`"
   ]
  },
  {
   "cell_type": "markdown",
   "metadata": {},
   "source": [
    "# `Part 1:` Web-scraping"
   ]
  },
  {
   "cell_type": "markdown",
   "metadata": {},
   "source": [
    "1. Inspect the HTML of the page and use web-scraping to get the names of all researchers that contributed to the conference in 2023. The goal is the following: (i) get as many names as possible including: keynote speakers, chairs, authors of parallel talks and authors of posters; (ii) ensure that the collected names are complete and accuarate as reported in the website (e.g. both first name and family name); (iii) ensure that no name is repeated multiple times with slightly different spelling.\n",
    "\n",
    "2. Some instructions for success:\n",
    "First, inspect the page through your web browser to identify the elements of the page that you want to collect. Ensure you understand the hierarchical structure of the page, and where the elements you are interested in are located within this nested structure.\n",
    "Use the BeautifulSoup Python package to navigate through the hierarchy and extract the elements you need from the page.\n",
    "You can use the find_all method to find elements that match specific filters. Check the documentation of the library for detailed explanations on how to set filters.\n",
    "Parse the strings to ensure that you retrieve \"clean\" author names (e.g. remove commas, or other unwanted charachters)\n",
    "The overall idea is to adapt the procedure I have used here for the specific page you are scraping.\n",
    "\n",
    "3. Create the set of unique researchers that joined the conference and store it into a file.\n",
    "Important: If you notice any issue with the list of names you have collected (e.g. duplicate/incorrect names), come up with a strategy to clean your list as much as possible.\n",
    "\n",
    "4. Optional: For a more complete represenation of the field, include in your list: (i) the names of researchers from the programme committee of the conference, that can be found at this link; (ii) the organizers of tutorials, that can be found at this link\n",
    "\n",
    "### Scraping the URL:"
   ]
  },
  {
   "cell_type": "code",
   "execution_count": 1,
   "metadata": {},
   "outputs": [
    {
     "name": "stdout",
     "output_type": "stream",
     "text": [
      "Initially, we have found 1652 names. The names are ['Aaron Clauset', 'Aaron J. Schwartz', 'Aaron Schein', 'Aaron Smith', 'Abbas Haidar', 'Abby Smith', 'Abdulkadir Celikkanat', 'Abdullah Almaatouq', 'Abdullah Zameek', 'Abeer ElBahrawy', 'Abigail Z Jacobs', 'Adam Dunn', 'Adam Finnemann', 'Adam Frank', 'Adam H. Russell', 'Adam Stefkovics', 'Adam Sutton', 'Aditi Dutta', 'Adriano Belisario', 'Adrienne Mendrik', 'Afra Mashhadi', 'Agnieszka Czaplicka', 'Agnieszka Falenska', 'Aguru Ishibashi', 'Ahmad Hesam', 'Ahmed Nasser Mostafa', 'Aidan Combs', 'Aidar Zinnatullin', 'Akeela Careem', 'Akhil Arora', 'Akira Hashimoto', 'Akira Matsui', 'Akira Tsurushima', 'Akrati Saxena', 'Alain Barrat', 'Alan Paul Kwan', 'Alba Motes Rodrigo', 'Albert-Laszlo Barabasi', 'Alberto Amaduzzi', 'Alberto Antonioni', 'Aleix Bassolas', 'Alejandro Beltran', 'Alejandro Dinkelberg', 'Alejandro Hermida Carrillo', 'Aleksandra Aloric', 'Aleksandra Urman', 'Alessandra Urbinati', 'Alessandro De Gaetano', 'Alessandro Di Nallo', 'Alessandro Flamini', 'Alessandro Flammini', 'Alessandro Gambetti', 'Alessandro Lomi', 'Alessia Antelmi', 'Alessia Melegaro', 'Alessio Vincenzo Cardillo', 'Alex Mielke', 'Alex Pentland', 'Alex Rutherford', 'Alex Teytelboym', 'Alexander Gates', 'Alexander J Gates', 'Alexander Sobieska', 'Alexander Volfovsky', 'Alexandra Florea', 'Alexandra Rottenkolber', 'Alexandra Segerberg', 'Alexandre Evsukoff', 'Alexandros Gelastopoulos', 'Alfredo Hernandez Sanchez', 'Ali Faqeeh', 'Ali Salloum', 'Ali Yassin', 'Aliakbar Akbaritabar', 'Aliaksandr Herasimenka', 'Alice Battiston', 'Alice Grishchenko', 'Alice Xiang', 'Alina Arseniev-Koehler', 'Alina Herderich', 'Alina Sîrbu', 'Allison Christine Morgan', 'Allison Koenecke', 'Almog Simchon', 'Amin Mekacher', 'Amir Ebrahimi Fard', 'Amir Ghasemian', 'Amir Goldberg', 'Amirhossein Nakhaei', 'Amy Dunphy', 'Amy Gimma', 'Amy Munz', 'Amy Selby', 'Amy Smith', 'Ana Alonso Curbelo', 'Ana Julia Bonzanini Bernardi', 'Ana Macanovic', 'Ana Maria Jaramillo', 'Ana María Jaramillo', 'Ana Valdivia', 'Ana-Andreea Stoica', 'Anastasia Karpova', 'Anastasia Menshikova', 'Anastassia Vybornova', 'Andrea Baronchelli', 'Andrea Failla', 'Andrea Gentili', 'Andrea Leigh Courtney', 'Andrea Passerini', 'Andrea Tagarelli', 'Andrea W Wang', 'Andrea mina', 'Andreas Bjerre-Nielsen', 'Andreas Kaltenbrunner', 'Andreas Koher', 'Andreas Spitz', 'Andreia Sofia Teixeira', 'Andres F. Castro Torres', 'Andrew Beers', 'Andrew Herman', 'Andrew Lippman', 'Andrew Renninger', 'Andrés Gvirtz', 'Andy Berres', 'Andy Skumanich', 'Ane Rahbek Vierø', 'Angel Cuevas', 'Angel Sánchez', 'Angelita Repetto', 'Angelo Brayner', 'Angelos Kassianos', 'Anikó Hannák', 'Anjali Bhatt', 'Anna Bertani', 'Anna Di Natale', 'Anna George', 'Anna Mancini', 'Anna Rogers', 'Anna Sapienza', 'Anna Sara Ligeti', 'Anna Seo Gyeong Choi', 'Anna Sokolova', 'Anna Wegmann', 'Annapaola Marconi', 'Anne C Kroon', 'Anne C. Kroon', 'Anne Cathrine Linder', 'Anne Kroon', 'Anne-Marie Nussberger', 'Antonin Pottier', 'Antonio Ariño Villarroya', 'Antonio Bucchiarone', 'Antonio Desiderio', 'Antonio Lima', 'Antonio Longa', 'Antonio Rojas-Garcia', 'Antti Gronow', 'Anubhab Das', 'Anya Hommadova Lu', 'Ardon Z. Shorr', 'Arianna Pera', 'Arkaitz Zubiaga', 'Armando Bazzani', 'Armin Pournaki', 'Arnault Chatelain', 'Arnout van de Rijt', 'Artem Kuriksha', 'Artem Volgin', 'Arti Thakur', 'Arttu Malkamäki', 'Arun Frey', 'Ashesh Rambachan', 'Ashiqur R KhudaBukhsh', 'Ashley Francisco', 'Ashley Muddiman', 'Ashlyn B. Aske', 'Ashton Anderson', 'Astrid Gühnemann', 'Athina Anastasiadou', 'Attila Varga', 'Atushi Ishikawa', 'August Lohse', 'Avi Gamoran', 'Ayan-Yue Gupta', 'Aymeric Luneau', 'Babak Heydari', 'Bahador Bahrami', 'Bahareh Sarrafzadeh', 'Bailey Fosdick', 'Baird Howland', 'Balaraju Battu', 'Balazs Vedres', 'Balázs Lengyel', 'Bao Tran Truong', 'Barbara Keller', 'Beatrice Bonami', 'Beatrice Rammstedt', 'Becky P.Y. Loo', 'Bedoor AlShebli', 'Bedoor Alshebli', 'Beibei Li', 'Belén C Saldías Fuentes', 'Benedikt Ströbl', 'Benjamin C Holding', 'Benjamin Frank Maier', 'Benjamin J Radford', 'Bennard Doornbos', 'Bernard Koch', 'Bernardo Garcia Bulle Bueno', 'Bertram Malle', 'Bethany Hsiao', 'Beverly Laher', 'Bhargav Srinivasa Desikan', 'Bin Wang', 'Blas Kolic', 'Bogdan State', 'Bojan Kostic', 'Bokányi', 'Boleslaw K. Szymanski', 'Bradley Spahn', 'Bramantyo Supriyatno', 'Brenda Curtis', \"Brendan O'Connor\", 'Brennan Klein', 'Brian Keegan', 'Brian Uzzi', 'Briony Swire-Thompson', 'Brooke Foucault Welles', 'Bruno Lepri', 'Bruno Zamengo', 'Byungkyu Lee', 'Calvin Yixiang Cheng', 'Camelia Oprea', 'Cameron Lai', 'Camila Tsuzuki', 'Camille Landesvatter', 'Camille Roth', 'Camille Testard', 'Carina Ines Hausladen', 'Carl Nordlund', 'Carlo Valensise', 'Carlos Callejo Penalba', 'Carlos Castillo', 'Carlos Fernandez-Basso', 'Carlos Nunes Silva', 'Carlos Rodriguez', 'Carlos Rodriguez-Sickert', 'Carlson Moses Büth', 'Carmen Leicht-Scholten', 'Carmine Spagnuolo', 'Carolina Coimbra Vieira', 'Carolina Mattsson', 'Caroline C. Murray', 'Carsten Schwemmer', 'Casey Randazzo', 'Cassandra Overney', 'Cassidy R. Sugimoto', 'Catalina Vajiac', 'Caterina Suitner', 'Cathy Fang', 'Cecilia Monge', 'Ceren Budak', 'Cesar A Hidalgo', 'Cesar Augusto Marin', 'Chacha Chen', 'Chanuwas Aswamenakul', 'Chao Yu', 'Chao-Chun Hsu', 'Chaofeng Wu', 'Charalampos Saitis', 'Charles Rahal', 'Cheick Tidiane Ba', 'Cheng Pan', 'Chia-Jung Tsai', 'Chiara Chiavenna', 'Chiara Serra', 'Chico Q Camargo', 'Chloe Ahn', 'Chloe Eggleston', 'Chris Baber', 'Chris Callison-Burch', 'Christa Brelsford', 'Christian Almenar', 'Christian Czymara', 'Christian L Vestergaard', 'Christian Staal Bruun Overgaard', 'Christian Strippel', 'Christiern Santos Rasmussen', 'Christine Vega Pourheydarian', 'Christoffer Green-Pedersen', 'Christoffer Koch Florczak', 'Christoph Bartenhagen', 'Christoph Benedikt Gote', 'Christoph Kern', 'Christoph Stadtfeld', 'Christopher Bail', 'Christopher Danforth', 'Christopher I Jarvis', 'Chung-Kon Shi', 'Ciro Cattuto', 'Claire Glanois', 'Clara Bersch', 'Clara Boothby', 'Clara Vandeweerdt', 'Claudia Acciai', 'Claudia Wagner', 'Clemens M. Lechner', 'Clemens Stachl', 'Clodomir Santana', 'Cody Buntain', 'Coen D Needell', 'Connor Cantrell', 'Corine Meppelink', 'Cornelius Puschmann', 'Corrado Monti', 'Cristian E Candia', 'Cuihua Shen', 'Cynthia Rudin', 'D. Sunshine Hillygus', 'Dafna Yavetz', 'Damian Serwata', 'Damian Trilling', 'Damiano Morando', 'Damin Lee', 'Dan Calacci', 'Dan Dai', 'Dan Franks', 'Dan Jurafsky', 'Dan Thomsen', 'Daniel A. McFarland', 'Daniel Acuna', 'Daniel Corsi', 'Daniel J Corsi', 'Daniel Larremore', 'Daniel Matter', 'Daniel Nagin', 'Daniel Romero', 'Daniel Scott Smith', 'Daniel Torren Peraire', 'Daniel Valdenegro', 'Daniela Paolotti', 'Daniela Perrotta', 'Daniela Valdes', 'Daniele De Vinco', 'Daniele Gambetta', 'Daniele Quercia', 'Daniele Rama', 'Darko Stojilovic', 'Darren Croft', 'Darya Zare', 'Dashun Wang', 'David Axelrod', 'David Dreyer Lassen', 'David G. Rand', 'David Garcia', 'David Holtz', 'David Joachim Grüning', 'David Joyner', 'David Jurgens', 'David Lagnado', 'David Lusseau', 'David M Rothschild', 'David Mimno', 'David Mingfei Liu', 'David Page', 'David Rand', 'David Rothschild', 'David Sanchez', 'David Schoch', 'Davide Proserpio', 'Davide Vega', 'Deb Roy', 'Debora Nozza', 'Delphine De Moor', 'Denis Bonnay', 'Denis E Hudon', 'Dennis Assenmacher', 'Denny Borsboom', 'Derek Greene', 'Diana Roig Sanz', 'Diana Verdes', 'Dilrukshi Gamage', 'Dimitra Dimitrakopoulou', 'Dimitris Kotzinos', 'Dingeman Jan Van der Laan', 'Diogo Pachecho', 'Diogo Pacheco', 'Disha Saini', 'Djordje Grbic', 'Donghyun Kang', 'Dongning Deng', 'Dongwoo Lim', 'Dorian Quelle', 'Doug Beeferman', 'Douglas Leasure', 'Douglas Richard Guilbeault', 'Drew Dimmery', 'Duilio Balsamo', 'Duncan J Watts', 'Duncan J. Watts', 'Duncan Watts', 'Dustin S Stoltz', 'Dustin Wright', 'Dylan Connor', 'Dylan Paltra', 'Dylan Thurgood', 'Eaman Jahani', 'Ebru Sanliturk', 'Eckehard Olbrich', 'Eddie Rossi', 'Edit Paulo', 'Edmond Awad', 'Edward Abel', 'Edward Lee', 'Edwin De Jonge', 'Eiji Aramaki', 'Eladio Montero-Porras', 'Elena Pavan', 'Elias Fernández Domingos', 'Elias Najarro', 'Elisa Omodei', 'Elisabet CarbÃ³ Catalan', 'Elisabeth Stockinger', 'Eliza Stenzhorn', 'Elizaveta Chernenko', 'Elizaveta Sivak', 'Ella Clement', 'Elliot Pickens', 'Elliott Ash', 'Elohim Fonseca dos Reis', 'Em Bello-Pardo', 'Emanuele Cozzo', 'Emil Bakkensen Johansen', 'Emilio Ferrara', 'Emilio Zagheni', 'Emily L Wang', 'Emma Hoes', 'Emma Spiro', 'Emmanouil Tranos', 'Emmeke Aarts', 'Emoke-Agnes Horvat', 'Eni Mustafaraj', 'Enrico Cantoni', 'Enshu Cheng', 'Eraldo Ribeiro', 'Erez Shmueli', 'Erez Yoeli', 'Eric Dignum', 'Eric Giannella', 'Erick Elejalde', 'Erin Walk', 'Erjian Liu', 'Erkan Gunes', 'Erkki Tapio Isometsä', 'Esteban Moro', 'Ethan Porter', 'Etienne Ollion', 'Eugenio Valdano', 'Evelien Snippe', 'Eyal Perry', 'Ezequiel Lopez Lopez', 'Ezzat Elokda', 'Fabian Baumann', 'Fabian Braesemann', 'Fabio Carella', 'Fabio Carrella', 'Fabio Giglietto', 'Fabián Aguirre-López', 'Fabrizio Gilardi', 'Fabrizio Lillo', 'Facundo Carrillo', 'Fan Liang', 'Fan Yin', 'Fariba Karimi', 'Fatima Alqabandi', 'Fausto Giunchiglia', 'Federico Barrera Lemarchand', 'Federico Barrera-Lemarchand', 'Federico Botta', 'Federico Delussu', 'Federico Mazzoni', 'Federico Musciotto', 'Federico Pilati', 'Federico Zimmerman', 'Feiyang Zhang', 'Felix Gaisbauer', 'Felix Lennert', 'Felix Schmidt', 'Felix Victor Münch', 'Feng Fu', 'Fengli Xu', 'Fengyi Zheng', 'Fengyuan Michael Liu', 'Ferdinand Le Coz', 'Filipi Nascimento Silva', 'Filippo Menczer', 'Filippo Privitera', 'Fiona Lee', 'Fionneke M Bos', 'Florian Barbaro', 'Florian Keusch', 'Floriana Gargiulo', 'Fons Rademakers', 'Fosca Giannotti', 'Francesca Chiaromonte', 'Francesco Barbieri', 'Francesco Bonchi', 'Francesco Lamperti', 'Francesco Pierri', 'Francesco Rinaldi', 'Francesco Silvestri', 'Francesco Tudisco', 'Francisco Barreras', 'Francisco C Santos', 'Francisco Olivos', 'Frank Berthold', 'Frank Neffke', 'Frank Pantano', 'Frank Peter Pijpers', 'Frank Pijpers', 'Frank Schweitzer', 'Frank W. Takes', 'Frank van Tubergen', 'Franziska Keller', 'Frauke Kreuter', 'Frederik Andersen', 'Frederik Riedel', 'Fredrik Jansson', 'Friedrich Götz', 'Fujio Toriumi', 'Fátima Velásquez-Rojas', 'Gabriela Juncosa', 'Gabriela Salazar Lopez', 'Gabriele Etta', 'Gabriele Santin', 'Gabriella Harari', 'Gabriella Lapesa', 'Galen Stocking', 'Gautam Thakur', 'Gaël Le Mens', 'Gemma Read', 'Genki Ichinose', 'Gennaro Cordasco', 'George Bikhazi', 'George Fletcher', 'George Gyamfi', 'Gerardo Iñiguez', 'Gergo Toth', 'Gerret von Nordheim', 'Gert Stulp', 'Giada Marino', 'Gianmarco De Francisci Morales', 'Gianni Barlacchi', 'Giona Casiraghi', 'Giorgio Tripodi', 'Giovanni Da San Martino', 'Giovanni Mauro', 'Giulia Cencetti', 'Giulia De Pasquale', 'Giulia Martini', 'Giulio Cimini', 'Giulio Corsi', 'Giulio Rossetti', 'Giuseppe Russo', 'Giyeon Baek', 'Gordon Pennycook', 'Gourab Ghoshal', 'Graham Tierney', 'Gregorio López', 'Guangnan Zhu', 'Guilherme Lichand', 'Guillaume Cabanac', 'Guy Zyskind', 'Gwyneth Sutherlin', 'Gülşah Akçakır', 'Haaya Naushan', 'Haewoon Kwak', 'Haiko Lietz', 'Hal Ashton', 'Hamida Seba', 'Hammaad Adam', 'Han Zheng', 'Hancheng Cao', 'Hang Jiang', 'Hannah Metzler', 'Hannah-Marie Büttner', 'Hao Cui', 'Hao Peng', 'Haochuan Cui', 'Haohan Shi', 'Haoning Xue', 'Harsh Parikh', 'Hasan Alp Boz', 'Hause Lin', 'Hayato Misumi', 'Heidi Schulze', 'Helen Margetts', 'Helena Sophia Rauxloh', 'Hemank Lamba', 'Hendrik Erz', 'Hendrik Meyer', 'Henrik Wolf', 'Hikaru Asano', 'Hilke Brockmann', 'Hillel Rapoport', 'Hirokazu Shirado', 'Hiroki Takikawa', 'Hiromu Takahashi', 'Hiu Sze Chan', 'Hocine Cherifi', 'Holger Steinmetz', 'Homa Hosseinmardi', 'Hongshan Jin', 'Hono Shirai', 'Hope Schroeder', 'Hriday Chheda', 'Hugo Barbosa', 'Hugo Contreras', 'Hugo Subtil', 'Hui Wang', 'Huiyi Lv', 'Huiyi Lyu', 'Huma Rasheed', 'Hyejin Youn', 'Hyeseung Shim', 'Hywel T.P. Williams', 'Iacopo Iacopini', 'Ian Barnett', 'Ian Krajbich', 'Ian Stewart', 'Ibrahim Farouq', 'Ichiro Sakata', 'Ijaz Ul Haq', 'Ilaria Montagni', 'Ilona Horwath', 'Indira Sen', 'Indrajeet Patil', 'Indraneel Mane', 'Inga Trauthig', 'Ingmar Weber', 'Inho Hong', 'Inês Terrucha', 'Irena Đorđević', 'Irmandy Wicaksono', 'Isabel Lerch', 'Isabel Sebire', 'Isabela Inês', 'Isabella Loaiza', 'Isabelle Augenstein', 'Isabelle Langrock', 'Isabelle Lorge', 'Ivan Dotu', 'Ivan Savin', 'Ivan Smirnov', 'Ivano Bison', 'Iyad Rahwan', 'Iñaki Ucar', 'Jack LaViolette', 'Jacob Beck', 'Jacob Habinek', 'Jacob R Brown', 'Jacob Thebault-Spieker', \"Jacopo D'Ignazi\", 'Jad Kabbara', 'Jaehong Ahn', 'Jaehyuk Park', 'Jaime Pérez', 'Jake M. Hofman', 'Jakob Schlierf', 'Jamell Dacon', 'James Bagrow', 'James Calum Young', 'James Evans', 'James Houghton', 'James Michelson', 'James P Houghton', 'James Winters', 'Jamil Zaki', 'Jan Bachmann', 'Jan Engler', 'Jan Nikadon', 'Jan-Philipp Rau', 'Jana Lasser', 'Janet B. Pierrehumbert', 'Jar-Der Luo', 'Jari Saramäki', 'Jason Burton', 'Jason C Coronel', 'Jason Hiigh Thompson', 'Jason Rentfrow', 'Javier Alvarez-Galvez', 'Javier Borge Holthoefer', 'Javier Ureña Carrion', 'Jean-Philippe Cointet', 'Jeff Jacobs', 'Jeff T Sheng', 'Jeffrey Gleason', 'Jelena Grujić', 'Jennifer Pan', 'Jeremiah Milbauer', 'Jeremiah Onaolapo', 'Jeroen Jonkman', 'Jesper Wiborg Schneider', 'Jesse Piburn', 'Jessica J Santana', 'Jesus Berrios', 'Jesús A. Prieto-Alonso', 'Jevin West', 'Jia Lin Cheoh', 'Jia-Ru Song', 'Jiani Yan', 'Jianxun Chu', 'Jiao Sun', 'Jiaxin Pei', 'Jie Hua', 'Jihoon Kim', 'Jiliang Tang', 'Jingwen Zhang', 'Jinhyuk Yun', 'Jinjun Xiong', 'Jinseo Park', 'Jisu Kim', 'Jisun An', 'Joachim Baumann', 'Joanna Bryson', 'Joaquín Navajas', 'Joel Harrison Suss', 'Johann Schaible', 'Johanna Einsiedler', 'Johanna Gunawan', 'Johannes Ross', 'Johannes Wachs', 'John Bryden', 'John W Edmunds', 'Jolien Cremers', 'Jon Kleinberg', 'Jon Roozenbeek', 'Jonas Alexander Havstein Eriksen', 'Jonas L Juul', 'Jonas Raaschou-Pedersen', 'Jonathan Bright', 'Jonathan Cohen', 'Jonathan Green', 'Jonathan P. Chang', 'Jonathan St-Onge', 'Jonathan Zhu', 'Jordan Dworkin', 'Jordan Hart', 'Jorge Gil', 'Jose Javier Ramasco', 'Jose Miguel Cordova', 'Josefine Bohr Brask', 'Josep Perelló', 'Josephine Lukito', 'Joshua Garland', 'José Ignacio Alvarez-Hamelin', 'José Javier Ramasco', 'Juan Carlos Rocha', 'Judith Moeller', 'Juergen Lerner', 'Juhi Kulshrestha', 'Julia Hirschberg', 'Julia Huschens', 'Julia Koltai', 'Julia Szamely', 'Julian Berger', 'Julian Jaursch', 'Julian Polenz', 'Julian Winkler', 'Julien Figeac', 'Julieta Ruiz', 'June Young Lee', 'Juniper L Lovato', 'Junran Yang', 'Junsol Kim', 'Justyna Czestochowska', 'János Kertész', 'Jörg Claussen', 'Jürgen Pfeffer', 'K. Hunter Wapman', 'Kai-Cheng Yang', 'Kaixiang Kang', 'Kaiya Soorholtz', 'Kangsan Lee', 'Karim Hamade', 'Karim Lasri', 'Karmanya Aggarwal', 'Karolina Stanczak', 'Karthikeya Kaushik', 'Kasper Welbers', 'Kat Albrecht', 'Katayoun Farrahi', 'Kate Joynes-Burgess', 'Kate L. Wootton', 'Kate Niederhoffer', 'Kateryna Kasianenko', 'Katharina Burgdorf', 'Katharina Kleinen', 'Katharina Lawall', 'Kathyrn Fair', 'Kathyrn R Fair', 'Katie Spoon', 'Katinka Den Nijs', 'Katrin Weller', 'Kayla Duskin', 'Kazuhiro Seki', 'Kazutoshi Sasahara', 'Ke Li', 'Ke Zhou', 'Keeley Erhardt', 'Keiichiro Tsukamoto', 'Kellner Aniko', 'Kelton Minor', 'Kelton R Minor', 'Kenjiro Inoue', 'Kenneth Joseph', 'Kerry Wong', 'Kevin Munger', 'Kevin Sparks', 'Keyu Zhu', 'Khalid K Osman', 'Kimitaka Asatani', 'Kinga Makovi', 'Kiran Garimella', 'Kishore Vasan', 'Kiyoshi Izumi', 'Kobi Hackenburg', 'Kokil Jaidka', 'Kongmeng Liew', 'Koustuv Saha', 'Kristen Engel', 'Kristian Peter Lorenzen', 'Kristian Tylén', 'Kristina Aleksandrovna Pedersen', 'Kristina Gligoric', 'Kristoffer Lind Glavind', 'Kumar Chandra', 'Kun He', 'Kunihiro Miyazaki', 'Kyriaki Kalimeri', 'Laetitia Gauvin', 'Laila Wegner', 'Lama Abdulrahman Alqazlan', 'Lau Lilleholt Harpviken', 'Laura Alessandretti', 'Laura Boeschoten', 'Laura Casanovas Buliart', 'Laura Ferrarotti', 'Laura Hernandez', 'Laura Leone', 'Laura Maria Alessandretti', 'Laura Nelson', 'Laura Victoria Lescano', 'Laurel Bobrow', 'Lauren Brent', 'Laurence Brandenberger', 'Laurent Hebert-Dufresne', 'Lavinia Rossi Mori', 'Layla Bouzoubaa', 'Lea Biere', 'Lejla Dzanko', 'Lena Mangold', 'Lena Masch', 'Leo Ferres', 'Leon Fröhling', 'Leonardo Castro-Gonzalez', 'Leonardo Ferres', 'Leonardo Rosado', 'Leonie Neuhäuser', 'Leslie DeChurch', 'Lester Mackey', 'Letizia Iannucci', 'Levin Brinkmann', 'Li Liao', 'Li Zhang', 'Lian van der Krieke', 'Licia Capra', 'Likun Cao', 'Lili Miao', 'Lillio Mok', 'Lin Ai', 'Linda Coufal', 'Linda Li', 'Linda Steg', 'Lindsay Larson', 'Lingfei Wu', 'Linnea Gandhi', 'Lion Wedel', 'Lisa Anne Hendriks', 'Lisa Argyle', 'Lisa Green', 'Lisa Merten', 'Lisette Espin Noboa', 'Lisette Espin-Noboa', 'Lonjezo Dzekedzeke', 'Lorenzo Amir Nemati Fard', \"Lorenzo Dall'Amico\", 'Lorenzo De Masi', 'Lorenzo Lucchini', 'Loreto Bravo', 'Lorin Crawford', 'Louis Boucherie', 'Louis M Shekhtman', 'Louis Michael Shekhtman', 'Louisa Jane Di Felice', 'Lu Sun', 'Luca Luceri', 'Luca Maria Aiello', 'Luca Pappalardo', 'Luca Rossi', 'Luca Verginer', 'Lucila Alvarez-Zuzek', 'Lucila Gisele Alvarez Zuzek', 'Lucio La Cava', 'Lucía Pedraza', 'Lui Ruck', 'Luigi Arminio', 'Luis E C Rocha', 'Luis M Rocha', 'Luisa Carrer', 'Luiz Neves', 'Lyle Ungar', 'Lynn Smith-Lovin', 'Léo Meynent', 'Maciej J. Dańko', 'Maddalena Conte', 'Mael Kubli', 'Magdalena Formanowicz', 'Magnus Resch', 'Mahasweta Chakraborti', 'Mahdi Mostajabdaveh', 'Mahnaz Roshanaei', 'Maimuna S Majumder', 'Mainack Mondal', 'Makoto Mizuno', 'Malte Jung', 'Malvina Nissim', 'Manju Bura', 'Manlio De Domenico', 'Manoel Horta Ribeiro', 'Manoel Ribeiro', 'Manuel Cebrian', 'Manuel Garcia-Herranz', 'Manuel Tonneau', 'Manuel Vimercati', 'Marc Keuschnigg', 'Marc Sadurní Parera', 'Marcelo Silva', 'Marcin Waniek', 'Marco Agnolon', 'Marco De Nadai', 'Marco Pangallo', 'Marco Tonin', 'Marcos A. Oliveira', 'Marcos Oliveira', 'Mareike Wieland', 'Maren Schuster', 'Margaret Roberts', 'Margaret Samahita', 'Margarita Torre', 'Maria Cucciniello', 'Maria Sahakyan', 'Maria Zens', 'Maria del Rio Chanona', 'Mariana Macedo', 'Mariano Gaston Beiro', 'Mariano Gastón Beiró', 'Mariano Sigman', 'Marie Decker', 'Marie Urban', 'Marie-Laure Charpignon', 'Marieke Van Hoof', 'Marijn ten Thij', 'Marilena Hohmann', 'Mario Castro', 'Mario L. Small', 'Marios Constantinides', 'Marisa Affonso Vasconcelos', 'Marisa Vasconcelos', 'Marita Lítlá', 'Marius Sältzer', 'Marjolijn Das', 'Mark Boukes', 'Mark E Whiting', 'Mark Wittek', 'Markus Strohmaier', 'Marlene Lutz', 'Marshall A Taylor', 'Marta Gonzalez', 'Martin Ardvisson', 'Martin Arvidsson', 'Martin Gerlach', 'Martin Hilbert', 'Martin Koenen', 'Martin Loidl', 'Martin Saveski', 'Marton Karsai', 'Mary Hu', 'Maryna Sydorova', 'Masanori Hirano', 'Masaru Kitsuregawa', 'Masashi Toyoda', 'Massimiliano Luca', 'Massimo Stella', 'Mateusz Nurek', 'Mathias Wullum Nielsen', 'Mathieu Génois', 'Mathieu Roche', 'Matija Franklin', 'Matt Rocklage', 'Matteo Cinelli', 'Matteo Magnani', 'Matteo Montecchi', 'Matteo Palmonari', 'Matteo Zignani', 'Matthew Bramwell Bone', 'Matthew DeVerna', 'Matthew Donald Sweitzer', 'Matthew Edwards', 'Matthew R DeVerna', 'Matthew Sharpe', 'Matthew Silk', 'Matti Nelimarkka', 'Mattia Mazzoli', 'Mattia Samory', 'Max Callaghan', 'Max Falkenberg', 'Max Lagencamp', 'Max Pellert', 'Maxim Derex', 'Maximilan Schich', 'Maximilian Hampel', 'Maximilian Schich', 'Meghan Armstrong', 'Melanie Oyarzun', 'Melissa J Dreier', 'Melvyn Tyloo', 'Mengjie Cheng', 'Meysam Alizadeh', 'Mia Ann Jørgensen', 'Micah Epstein', 'Michael Cook', 'Michael Geers', 'Michael Gilead', 'Michael Inzlicht', 'Michael Macy', 'Michael Matzenberger', 'Michael Quayle', 'Michael Roth', 'Michael Szell', 'Michael T Schaub', 'Michael Vincent Arnold', 'Michał Olech', 'Michał‚ Czuba', 'Michel Dubois', 'Michelangelo Rossi', 'Michele Avalle', 'Michele Coscia', 'Michele Starnini', 'Michele Tizzani', 'Michele Tizzoni', 'Miguel A González Casado', 'Miguel Rivera-Lanas', 'Miguel Souza', 'Mihai Burzo', 'Mikihito Tanaka', 'Mikiko Shimaoka', 'Mikko Kivela', 'Mikko Kivelä', 'Milena Tsvetkova', 'Ming-Hung Wang', 'Mingjing Yin', 'Mingmeng Geng', 'Minje Choi', 'Minsu Park', 'Miquel Montero', 'Mirco Musolesi', 'Miriam Hurtado Bodell', 'Miriam Redi', 'Mirjam De Bruijn', 'Mirta Galesic', 'Miruna Cotet', 'Mitsuo Yoshida', 'Moena Hashimoto', 'Mohamed Abouelenien', 'Mohammad Amaan Haque', 'Mohammad Atari', 'Mohammadhadi Aliahmadi', 'Mohammed Alsobay', 'Mohsen Bahrami', 'Mohsen Mosleh', 'Molly Crockett', 'Monica Bianchini', 'Morgan Ryan Frank', 'Morten Mørup', 'Mourad Heddaya', 'Muhammad Ali', 'Munjung Kim', 'Mykola Makhortykh', 'Mykola Pechenizkiy', 'Márton Karsai', 'Márton Rakovics', 'Mónika Simon', 'NAKAO Ran', 'NaLette Brodnax', 'Nabeel Gillani', 'Nail Furkan Bashan', 'Nalette Brodnax', 'Nandini Iyer', 'Nanyun Peng', 'Naoki Yoshinaga', 'Narayani Vedam', 'Natalie J. Stroud', 'Natalie McDaniel Gallagher', 'Nate Holers', 'Natkamon Tovanich', 'Navya Suri', \"Neave O'Clery\", 'Neeley Pate', 'Neil A. Tenenholtz', 'Neil Fasching', 'Neville Stanton', 'Nguyen Luong', 'Niccolo Pescetelli', 'Nicholas A Christakis', 'Nicholas Buttrick', 'Nicholas Christakis', 'Nicholas Diakopoulos', 'Nicholas J Pangakis', 'Nicholas LaBerge', 'Nicholas Vincent', 'Nick Obradovich', 'Nicola Fanton', 'Nicola Pedreschi', 'Nicola Perra', 'Nicole Nisbett', 'Nicolò Alessandro Girardini', 'Nicolò Gozzi', 'Nicolò Pagan', 'Nicoló Cavalli', 'Nicoló Gozzi', 'Nidhi Sethi', 'Niel Hens', 'Niklas Stoehr', 'Nikolaj Arpe Harmon', 'Nikolaos Nakis', 'Nikolitsa Grigoropoulou', 'Nils Christopher Köbis', 'Nir Grinberg', 'Niyati Malhotra', 'Noshir Contractor', 'Nour Kteily', 'Nuria Caceres', 'Oana Goga', 'OcÃ©ane Boulais', 'Ohhyun Kwon', 'Ole Teutloff', 'Oliver Baumann', 'Oliver Posegga', 'Olivier Togni', 'Ollie Ballinger', 'Ollin Demian Langle Chimal', 'Ollin Demian Langle-Chimal', 'Omar Guerrero', 'Onicio Leal', 'Onur Varol', 'Ophelia Deroy', 'Orestis Papakyriakopoulos', 'Oriol Artime', 'Orsolya Vasarhelyi', 'Osamu Sakura', 'Oscar Araque', 'Otto Kässi', 'Ourania Kolokotroni', 'Ozgur Can Seckin', 'PJ Lamberson', 'Pablo Andres Astudillo', 'Pablo Balenzuela', 'Pablo Hernández-Lagos', 'Pablo Moral', 'Palakorn Achananuparp', 'Pantelis Analytis', 'Pantelis P Analytis', 'Pantelis P. Analytis', 'Pantelis Pipergias Analytis', 'Paola Tubaro', 'Paolo Bajardi', 'Pascal Van Hentenryck', 'Patrice Wangen', 'Patrick Gildersleve', 'Patrick Park', 'Patrick Zerrer', 'Paul C Bauer', 'Paul C. Bauer', 'Paul Salmon', 'Paulina Bondaronek', 'Paulina Pankowska', 'Paweł Jurek', 'Pearl Pandya', 'Pedro Ramaciotti Morales', 'Peidong Mei', 'Peter Dodds', 'Peter Meylakhs', 'Petter Holme', 'Philip Howard', 'Philip Waggoner', 'Philipp Kessling', 'Philipp Lorenz-Spreen', 'Philippe Beutels', 'Pia Gutsmiedl', 'Pier Luigi Sacco', 'Pieter Simoens', 'Pietro Alessandro Aluffi', 'Pietro Coletti', 'Pietro Lio', 'Piotr Bródka', 'Piotr Sapiezinski', 'Piotr Sapiezynski', 'Piyush Ghasiya', 'Priscila Alvarez-Cueva', 'Priyanka Goonetilleke', 'Priyanshi Sharma', 'Przemyslaw A. Grabowicz', 'Przemyslaw Kazienko', 'Pu Yan', 'Pádraig Mac Carron', 'Qi Wang', 'Qiankun Zhong', 'Qianru Meng', 'Qin Li', 'Qing Ke', 'Qingtao Cao', 'Qiusi Sun', 'Qiwei Han', 'Quinn Lanners', 'Rachith Aiyappa', 'Rada Mihalcea', 'Radosław Michalski', 'Ralf Kurvers', 'Ralph Schroeder', 'Ramesh Jagannathan', 'Ramit Debnath', 'Ranadheer Malla', 'Randall Harp', 'Raphael H. Heiberger', 'Ray Funahashi', 'Rebecca Adler-Nissen', 'Rebekah Getman', 'Regina Widjaya', 'Reid McIlroy-Young', 'Remi Emonet', 'Renaud Lambiotte', 'Rens Vliegenthart', 'Rense Corten', 'Renzhe Yu', 'Renzo Bianchi', 'Riccardo Di Clemente', 'Riccardo Gallotti', 'Richard Bruggeman', 'Richard Freedman', 'Ridhi Kashyap', 'Riley Tucker', 'Rion Brattig Correia', 'Rishabh Kaushal', 'Rob Chew', 'Robb Willer', 'Robert Gordon Rinderknecht', 'Robert Mahari', 'Robert West', 'Roberta Rocca', 'Roberta Sinatra', 'Roberto Interdonato', 'Roberto Mavilia', 'Roberto Trotta', 'Roberto Ulloa', 'Robin Delabays', 'Rodger Richer', 'Rodrigo Troncoso', 'Roeland Dubèl', 'Roland Toth', 'Roman Kyrychenko', 'Ronald E. Robertson', 'Ronaldo Menezes', 'Roney Reis', 'Rosa Weidenspointner', 'Rosalia Steffi Longjam', 'Rossano Schifanella', 'Rubing Shen', 'Rubén Rodríguez Casañ', 'Rudolf Hanel', 'Rudy Arthur', 'Ruhao Liu', 'Rupert Kiddle', 'Rupert Tibor Kiddle', 'Ruth Elisabeth Appel', 'Ryan Cotterell', 'Ryan Louis Stevens', 'Ryan Whalen', 'Ryota Kobayashi', 'Rémi Perrier', 'Rémi Suchonn', 'Sabine Brunswicker', 'Sabrina Nardin', 'Sabrina Tiziana Gaito', 'Sacha Epskamp', 'Sadamori Kojaku', 'Saeedeh Mohammadi', 'Sagar Joglekar', 'Sagar Kumar', 'Sahar Baribi-Bartov', 'Sahil Chinoy', 'Sahil Loomba', 'Sahil Verma', 'Sajid Siraj', 'Salim Chouaki', 'Salvatore Giorgi', 'Salvatore Vilella', 'Sam Heroy', 'Sam Wolken', 'Sam Zhang', 'Samantha Vanderslott', 'Samar Haider', 'Sami Alexej Nenno', 'Samin Aref', 'Samsun Knight', 'Samuel Fraiberger', 'Samuel Wolken', 'Samuel Woolley', 'Sander van der Linden', 'Sandipan Sikdar', 'Sandor Juhasz', 'Sandra Gonzalez-Bailón', 'Sandro Ferreira Sousa', 'Sandro Lera', 'Sandro Meloni', 'Sanggoo Kang', 'Sanja Scepanovic', 'Sanja Šćepanović', 'Sanjay Kairam', 'Sanne Smith', 'Santo Fortunato', 'Sara Bonati', 'Sara Heydari', 'Sara Venturini', 'Sarah Grobe', 'Sarah Ita Levitan', 'Sarah Tell', 'Sarah Valdez', 'Sarvenaz Ebrahimi', 'Satoshi Tohda', 'Satyaki Sikdar', 'Saumya Tripathi', 'Saurabh Khanna', 'Saverio Bolognani', 'Savvas Zannettou', 'Sawa Yoshioka', 'Scott A Hale', 'Scott A. Hale', 'Scott Friedman', 'Scott McClean', 'Sean Kelty', 'Sean P. Rogers', 'Sebastian Mildiner Moraga', 'Sebastian Steffen', 'Sebastian Stier', 'Sebastiano Antonio Piccolo', 'Sebastiano Bontorin', 'Segun Aroyehun', 'Selim Balcisoy', 'Seong-Min Jun', 'Seongwoon Kim', 'Seoyoung Kweon', 'Serena Jimyn Soh', 'Serine Ramlawi', 'Seth Frey', 'Shadi Rezapour', 'Shahan Ali Memon', 'Shahar Somin', 'Shannon Poulsen', 'Shaomei Wu', 'Sharad Goel', 'Sharath Chandra Guntuku', 'Sharon Kang', 'Shatayu Kulkarni', 'Shaun Bevan', 'Shayne Longpre', 'Shelby Grossman', 'Shilad Sen', 'Shima Saniei', 'Shintaro Igari', 'Shintaro Sakai', 'Shintaro Ueki', 'Sho Cho', 'Sho Tsugawa', 'Shohei Hisamitsu', 'Shoko Wakamiya', 'Shotaro Ishihara', 'Shouji Fujimoto', 'Shreya Havaldar', 'Shubhanshu Mishra', 'Shujun Li', 'Shunichi Kasahara', 'Shuntaro Yada', 'Shunyuan Zhang', 'Siddhartha Sen', 'Silke Adam', 'Silvia Bartolucci', 'Silvia De Sojo Caso', 'Silvia Ioana Fierăscu', 'Silvia Leoni', 'Sima Farokhnejad', 'Simon Colton', 'Simon Martin Breum', 'Simon P. von der Maase', 'Simon Walo', 'Simone Centellegher', 'Simone Paolo Ponzetto', 'Simone Santoni', 'Siqi Wu', 'Sirus Bouchat', 'Sky CH-Wang', 'Somya Tomar', 'Sonia Yeh', 'Sonja M Schmer Galunder', 'Sonja M Schmer-Galunder', 'Sonja Walter', 'Sophia Johanna Schlosser', 'Soroush Vosoughi', 'Sota Watanabe', 'Sourav Medya', 'Spencer Poodiack Parsons', 'Srdja Dragovic', 'Srishti Vashistha', 'Stasa Milojevic', 'Stefan Gössling', 'Stefan Herzog', 'Stefan Katz', 'Stefan M. Herzog', 'Stefan Sarkadi', 'Stefan Stanciulescu', 'Stefan Wuchty', 'Stephan Lewandowsky', 'Stephanie Eckman', 'Stephen Davies', 'Subhayan Mukerjee', 'Sucheta Ghosh', 'Sudhanshu Mishra', 'Sujan Dutta', 'Sukankana Chakraborty', 'Sukrit Venkatagiri', 'Suman Maity', 'Sumer Vaid', 'Sune Lehmann', 'Sunny Rai', 'Surendra Hazarie', 'Susan Banducci', 'Susan Vermeer', 'Suyash Fulay', 'Sven Banisch', 'Sydney DeMets', 'Sylvain Fontaine', 'Szymon Talaga', 'Taberez Ahmed Neyazi', 'Taekho You', 'Taha Yasseri', 'Taichi Murayama', 'Taizo Horikomi', 'Takaharu Saito', 'Takahiro Miura', 'Takahiro Yabe', 'Takako Hashimoto', 'Takayuki Mizuno', 'Takayuki Uchiba', 'Takeaki Uno', 'Talal Rahwan', 'Talayeh Aledavood', 'Tamara Yaikin', 'Tamer Ajaj', 'Tao Jia', 'Tara Sowrirajan', 'Taro Takaguchi', 'Taylor Brown', 'Taylor Jones', 'Ted Hsuan Yun Chen', 'Telmo Menezes', 'Tenzin Tamang', 'Termeh Shafie', 'Tessa Masis', 'Theresa Henn', 'Thomas Franz Müller', 'Thomas Louf', 'Thomas Talhelm', 'Tiago Oliveira Cunha', 'Tian Yang', 'Tiancheng Hu', 'Tianshu Chen', 'Tim Althoff', 'Tim Faverjon', 'Timothy Douglas', 'Tina Law', 'Ting Li', 'Ting Lian', 'Ting Luo', 'Tiziano Piccardi', 'Tobias Felix Werner', 'Tobin South', 'Tom Emery', 'Tom Grad', 'Tom Kemeny', 'Tom Lenaerts', 'Tom Theile', 'Tomaso Erseghe', 'Tommaso Bondi', 'Tomomi Kito', 'Tongyu Ding', 'Tony Carden', 'Tornike Tsereteli', 'Toshiharu Sugawara', 'Toshiya Saito', 'Towa Suda', 'Trevor James Swanson', 'Trisevgeni Papakonstantinou', 'Tristram Alexander', 'Tugrulcan Elmas', 'Tuomas Ylä-Anttila', 'Tzu-Chi Yen', 'Uttama Barua', 'Vadim Voskresenskii', 'Valentin Pauli', 'Valentina Semenova', \"Valeria D'Andrea\", \"Valeria d'Andrea\", 'Valerii Chirkov', 'Vanessa Cheung', 'Varun Tandon', 'Vasanth Sarathy', 'Vedran Sekara', 'Veniamin Veselovsky', 'Vera Rocha', 'Vera Sosnovik', 'Veronica Lachi', 'Veronika Batzdorfer', 'Victor Galaz', 'Victor Hugo Orozco-Olvera', 'Victor Landaeta', 'Victor Navarro', 'Victoria Yantseva', 'Viktoria Spaiser', 'Vincent Buskens', 'Vincent Lariviere', 'Vincent Pons', 'Vincent Straub', 'Vincent Traag', 'Vincenzo Nicosia', 'Vittoria Colizza', 'Vittorio Loreto', 'Vjosa Preniqi', 'Vladimir Filkov', 'Vrushabh Vilas Wadnere', 'Vsevolod Suschevskiy', 'Víctor Navarro-Aránguiz', 'Walter Quattrociocchi', 'Wan Jou She', 'Wanqi Hu', 'Wen Hao HE', 'Wenjia Zhao', 'Wenlan Zhang', 'Wenna Chen', 'Wentao Xu', 'Wojtek Przepiorka', 'Woo-Sung Jung', 'Woo-sung Jung', 'Xiajie Zhang', 'Xiang Ren', 'Xiao Zhang', 'Xiaodan Lou', 'Xiaohui WANG', 'Xiaoran Yan', 'Xiaowen Dong', 'Xiaoya Chen', 'Xindi Wang', 'Xinlan Emily Hu', 'Xinran Wang', 'Xinran Zhu', 'Xinwei Xu', 'Xinyi Wang', 'Xinyi Zhao', 'Xuanjun Jason Gong', 'Xubo Cao', 'Yakov Bart', 'Yan Asadchy', 'Yan Leng', 'Yan Xia', 'Yang Wang', 'Yaniv Altshuler', 'Yanmeng Xing', 'Yara Kyrychenko', 'Yasuhiro Suzuki', 'Yelena Mejova', 'Yevgeniy Golovchenko', 'Yian Yin', 'Yilang Peng', 'Yilun Xu', 'Yingxuan Liu', 'Yiwei Luo', 'Yiyan Zhang', 'Yizhou Fan', 'Yong-Yeol Ahn', 'Yoshi Meke Bird', 'Yotaro Takazawa', 'Yu-Wen Chen', 'Yu-Yao Tseng', 'Yuan Liao', 'Yuan Zhang', 'Yuanmo He', 'Yuchen Cao', 'Yujin Kim', 'Yuka Takedomi', 'Yunhao Yuan', 'Yunkyu Sohn', 'Yuri Nakayama', 'Yurie Iwata', 'Yuru Li', 'Yuta Tomokiyo', 'Yutao Chen', 'Yuwen Yu', 'Yuzuki Takahashi', 'Zachary Dillon Kline', 'Zachary Pangan', 'Zaid Al-Ars', 'Zexun Chen', 'Zeyneb Nahide Kaya', 'Zeyu Lyu', 'Zhemeng Xie', 'Zhen Xu', 'Zhicong Chen', 'Zhixuan Zhou', 'Zhuangyuan Fan', 'Zhuojian Wei', 'Zilin Lin', 'Zishan Lan', 'Ziv Epstein', 'Ziwen Chen', 'Zoe K. Rahwan', 'Zoe Rahwan', 'Zoltan Kmetty', 'Zsófia Rakovics', 'diogo pacheco', 'franco scarselli', 'luca verginer', 'salvatore Citraro', 'Étienne Ollion']\n"
     ]
    }
   ],
   "source": [
    "from bs4 import BeautifulSoup\n",
    "import requests\n",
    "\n",
    "def fetch_names_program():\n",
    "    url = \"https://ic2s2-2023.org/program\"\n",
    "    r = requests.get(url)\n",
    "    soup = BeautifulSoup(r.content, \"html.parser\")\n",
    "\n",
    "    names = set()\n",
    "    for tag in soup.find_all(\"i\"): # We use find_all as recommended\n",
    "        text = tag.get_text()\n",
    "        for name in text.split(\", \"):  # Handle multiple names in one <i> tag\n",
    "            clean_name = name.replace(\"Chair: \", \"\").strip() # remove 'Chair: ' from certain strings\n",
    "            names.add(clean_name)\n",
    "            \n",
    "    for tr in soup.find(id=\"summary\").find_all(\"tr\"): # Loop through the rows of the summary table containing keynote speakers\n",
    "        tds = tr.find_all(\"td\")\n",
    "        if len(tds) >= 2: # Filter for rows containing atleast content in column with name Room A\n",
    "            text = tds[1].get_text() # Get column containing keynote speakers\n",
    "            if text:\n",
    "                prefix = \"Keynote - \" # Prefix that needs to be cleaned\n",
    "                if text.startswith(prefix):\n",
    "                    clean_name = text[len(prefix) : ].strip()\n",
    "                    names.add(clean_name)\n",
    "\n",
    "    return names\n",
    "\n",
    "def fetch_names_program_commitee():\n",
    "    url = \"https://ic2s2-2023.org/program_committee\"\n",
    "    r = requests.get(url)\n",
    "    soup = BeautifulSoup(r.content, \"html.parser\")\n",
    "\n",
    "    names = set()\n",
    "    \n",
    "    for tag in soup.find_all(\"b\"):\n",
    "        name = tag.get_text().strip()\n",
    "        if not any(char in name for char in [\"√\", \"°\", \"©\", \"§\"]): # Exclude all misspelled names with special characters \n",
    "            names.add(name)\n",
    "        \n",
    "    return names\n",
    "\n",
    "def fetch_names_tutorials():\n",
    "    url = \"https://ic2s2-2023.org/tutorials\"\n",
    "    r = requests.get(url)\n",
    "    soup = BeautifulSoup(r.content, \"html.parser\")\n",
    "    \n",
    "    names = set()\n",
    "    \n",
    "    section = soup.find(\"section\", {\"class\": \"wrapper style3\"}) # Navigate to the section containing the professors and organizers\n",
    "\n",
    "    for b in section.find_all(\"b\"):\n",
    "        clean_name = b.get_text().strip()\n",
    "        names.add(clean_name)\n",
    "        \n",
    "    \n",
    "    \n",
    "    return names\n",
    "\n",
    "names = fetch_names_program()\n",
    "names = names.union(fetch_names_program_commitee())\n",
    "names = names.union(fetch_names_tutorials())\n",
    "names = sorted(names)\n",
    "\n",
    "print(f'Initially, we have found {len(names)} names. The names are {names}')"
   ]
  },
  {
   "cell_type": "markdown",
   "metadata": {},
   "source": [
    "### Removing researcher names spelled slightly different"
   ]
  },
  {
   "cell_type": "code",
   "execution_count": 2,
   "metadata": {},
   "outputs": [
    {
     "name": "stdout",
     "output_type": "stream",
     "text": [
      "Found 59 fuzzy matches.\n",
      "\n",
      "Fuzzy Matches:\n",
      "Bedoor AlShebli & Bedoor Alshebli (Score: 100)\n",
      "Diogo Pacheco & diogo pacheco (Score: 100)\n",
      "Federico Barrera Lemarchand & Federico Barrera-Lemarchand (Score: 100)\n",
      "Lisette Espin Noboa & Lisette Espin-Noboa (Score: 100)\n",
      "Luca Verginer & luca verginer (Score: 100)\n",
      "NaLette Brodnax & Nalette Brodnax (Score: 100)\n",
      "Ollin Demian Langle Chimal & Ollin Demian Langle-Chimal (Score: 100)\n",
      "Sonja M Schmer Galunder & Sonja M Schmer-Galunder (Score: 100)\n",
      "Valeria D'Andrea & Valeria d'Andrea (Score: 100)\n",
      "Woo-Sung Jung & Woo-sung Jung (Score: 100)\n",
      "Alessandro Flamini & Alessandro Flammini (Score: 97)\n",
      "Duncan J Watts & Duncan J. Watts (Score: 97)\n",
      "Maximilan Schich & Maximilian Schich (Score: 97)\n",
      "Pantelis P Analytis & Pantelis P. Analytis (Score: 97)\n",
      "Anne C Kroon & Anne C. Kroon (Score: 96)\n",
      "Diogo Pachecho & Diogo Pacheco (Score: 96)\n",
      "Diogo Pachecho & diogo pacheco (Score: 96)\n",
      "Fabio Carella & Fabio Carrella (Score: 96)\n",
      "Paul C Bauer & Paul C. Bauer (Score: 96)\n",
      "Scott A Hale & Scott A. Hale (Score: 96)\n",
      "Ana Maria Jaramillo & Ana María Jaramillo (Score: 95)\n",
      "Jose Javier Ramasco & José Javier Ramasco (Score: 95)\n",
      "Nicholas A Christakis & Nicholas Christakis (Score: 95)\n",
      "Alexander Gates & Alexander J Gates (Score: 94)\n",
      "David M Rothschild & David Rothschild (Score: 94)\n",
      "Martin Ardvisson & Martin Arvidsson (Score: 94)\n",
      "Matthew DeVerna & Matthew R DeVerna (Score: 94)\n",
      "Pantelis Analytis & Pantelis P Analytis (Score: 94)\n",
      "Piotr Sapiezinski & Piotr Sapiezynski (Score: 94)\n",
      "Etienne Ollion & Étienne Ollion (Score: 93)\n",
      "James Houghton & James P Houghton (Score: 93)\n",
      "Michele Tizzani & Michele Tizzoni (Score: 93)\n",
      "Daniel Corsi & Daniel J Corsi (Score: 92)\n",
      "Duncan J Watts & Duncan Watts (Score: 92)\n",
      "Kathyrn Fair & Kathyrn R Fair (Score: 92)\n",
      "Kelton Minor & Kelton R Minor (Score: 92)\n",
      "Marton Karsai & Márton Karsai (Score: 92)\n",
      "Mikko Kivela & Mikko Kivelä (Score: 92)\n",
      "Nicolò Gozzi & Nicoló Gozzi (Score: 92)\n",
      "Pantelis Analytis & Pantelis P. Analytis (Score: 92)\n",
      "Anne C Kroon & Anne Kroon (Score: 91)\n",
      "Marcos A. Oliveira & Marcos Oliveira (Score: 91)\n",
      "Shubhanshu Mishra & Sudhanshu Mishra (Score: 91)\n",
      "Mariano Gaston Beiro & Mariano Gastón Beiró (Score: 90)\n",
      "Stefan Herzog & Stefan M. Herzog (Score: 90)\n",
      "Xindi Wang & Xinyi Wang (Score: 90)\n",
      "Duncan J. Watts & Duncan Watts (Score: 89)\n",
      "Ting Li & Ting Lian (Score: 88)\n",
      "Anne C. Kroon & Anne Kroon (Score: 87)\n",
      "David G. Rand & David Rand (Score: 87)\n",
      "Sam Wolken & Samuel Wolken (Score: 87)\n",
      "Zoe K. Rahwan & Zoe Rahwan (Score: 87)\n",
      "Laura Alessandretti & Laura Maria Alessandretti (Score: 86)\n",
      "Matteo Magnani & Matteo Zignani (Score: 86)\n",
      "Yiyan Zhang & Yuan Zhang (Score: 86)\n",
      "Alessandro Flamini & Alessandro Lomi (Score: 85)\n",
      "Louis M Shekhtman & Louis Michael Shekhtman (Score: 85)\n",
      "Lucila Alvarez-Zuzek & Lucila Gisele Alvarez Zuzek (Score: 85)\n",
      "Luis E C Rocha & Luis M Rocha (Score: 85)\n"
     ]
    }
   ],
   "source": [
    "from thefuzz import fuzz, process\n",
    "\n",
    "def find_fuzzy_matches(list_of_names, threshold=80):\n",
    "    \n",
    "    fuzzy_matches = [] # List to store fuzzy matches\n",
    "    seen_matches = set()  # To avoid duplicates\n",
    "\n",
    "    for i, name in enumerate(list_of_names):\n",
    "        # Find top matches in the remaining names (excluding self-matches)\n",
    "        matches = process.extract(name, list_of_names[i+1:], scorer=fuzz.ratio, limit=5)\n",
    "\n",
    "        for match, score in matches:\n",
    "            if score >= threshold and (name, match) not in seen_matches and (match, name) not in seen_matches:\n",
    "                fuzzy_matches.append((name, match, score))\n",
    "                seen_matches.add((name, match))\n",
    "\n",
    "    \n",
    "    fuzzy_matches.sort(key=lambda x: x[2], reverse=True) # Sort matches by descending score\n",
    "\n",
    "    return fuzzy_matches\n",
    "\n",
    "\n",
    "fuzzy_matches = find_fuzzy_matches(names, threshold=85)\n",
    "\n",
    "print(f\"Found {len(fuzzy_matches)} fuzzy matches.\")\n",
    "print(\"\\nFuzzy Matches:\")\n",
    "for name1, name2, score in fuzzy_matches:\n",
    "    print(f\"{name1} & {name2} (Score: {score})\")"
   ]
  },
  {
   "cell_type": "code",
   "execution_count": 3,
   "metadata": {},
   "outputs": [
    {
     "name": "stdout",
     "output_type": "stream",
     "text": [
      "Removing 59 duplicate names from the original name set\n",
      "We now have a list of 1598 researchers. Their names are ['Aaron Clauset', 'Aaron J. Schwartz', 'Aaron Schein', 'Aaron Smith', 'Abbas Haidar', 'Abby Smith', 'Abdulkadir Celikkanat', 'Abdullah Almaatouq', 'Abdullah Zameek', 'Abeer ElBahrawy', 'Abigail Z Jacobs', 'Adam Dunn', 'Adam Finnemann', 'Adam Frank', 'Adam H. Russell', 'Adam Stefkovics', 'Adam Sutton', 'Aditi Dutta', 'Adriano Belisario', 'Adrienne Mendrik', 'Afra Mashhadi', 'Agnieszka Czaplicka', 'Agnieszka Falenska', 'Aguru Ishibashi', 'Ahmad Hesam', 'Ahmed Nasser Mostafa', 'Aidan Combs', 'Aidar Zinnatullin', 'Akeela Careem', 'Akhil Arora', 'Akira Hashimoto', 'Akira Matsui', 'Akira Tsurushima', 'Akrati Saxena', 'Alain Barrat', 'Alan Paul Kwan', 'Alba Motes Rodrigo', 'Albert-Laszlo Barabasi', 'Alberto Amaduzzi', 'Alberto Antonioni', 'Aleix Bassolas', 'Alejandro Beltran', 'Alejandro Dinkelberg', 'Alejandro Hermida Carrillo', 'Aleksandra Aloric', 'Aleksandra Urman', 'Alessandra Urbinati', 'Alessandro De Gaetano', 'Alessandro Di Nallo', 'Alessandro Flammini', 'Alessandro Gambetti', 'Alessandro Lomi', 'Alessia Antelmi', 'Alessia Melegaro', 'Alessio Vincenzo Cardillo', 'Alex Mielke', 'Alex Pentland', 'Alex Rutherford', 'Alex Teytelboym', 'Alexander J Gates', 'Alexander Sobieska', 'Alexander Volfovsky', 'Alexandra Florea', 'Alexandra Rottenkolber', 'Alexandra Segerberg', 'Alexandre Evsukoff', 'Alexandros Gelastopoulos', 'Alfredo Hernandez Sanchez', 'Ali Faqeeh', 'Ali Salloum', 'Ali Yassin', 'Aliakbar Akbaritabar', 'Aliaksandr Herasimenka', 'Alice Battiston', 'Alice Grishchenko', 'Alice Xiang', 'Alina Arseniev-Koehler', 'Alina Herderich', 'Alina Sîrbu', 'Allison Christine Morgan', 'Allison Koenecke', 'Almog Simchon', 'Amin Mekacher', 'Amir Ebrahimi Fard', 'Amir Ghasemian', 'Amir Goldberg', 'Amirhossein Nakhaei', 'Amy Dunphy', 'Amy Gimma', 'Amy Munz', 'Amy Selby', 'Amy Smith', 'Ana Alonso Curbelo', 'Ana Julia Bonzanini Bernardi', 'Ana Macanovic', 'Ana María Jaramillo', 'Ana Valdivia', 'Ana-Andreea Stoica', 'Anastasia Karpova', 'Anastasia Menshikova', 'Anastassia Vybornova', 'Andrea Baronchelli', 'Andrea Failla', 'Andrea Gentili', 'Andrea Leigh Courtney', 'Andrea Passerini', 'Andrea Tagarelli', 'Andrea W Wang', 'Andrea mina', 'Andreas Bjerre-Nielsen', 'Andreas Kaltenbrunner', 'Andreas Koher', 'Andreas Spitz', 'Andreia Sofia Teixeira', 'Andres F. Castro Torres', 'Andrew Beers', 'Andrew Herman', 'Andrew Lippman', 'Andrew Renninger', 'Andrés Gvirtz', 'Andy Berres', 'Andy Skumanich', 'Ane Rahbek Vierø', 'Angel Cuevas', 'Angel Sánchez', 'Angelita Repetto', 'Angelo Brayner', 'Angelos Kassianos', 'Anikó Hannák', 'Anjali Bhatt', 'Anna Bertani', 'Anna Di Natale', 'Anna George', 'Anna Mancini', 'Anna Rogers', 'Anna Sapienza', 'Anna Sara Ligeti', 'Anna Seo Gyeong Choi', 'Anna Sokolova', 'Anna Wegmann', 'Annapaola Marconi', 'Anne Cathrine Linder', 'Anne Kroon', 'Anne-Marie Nussberger', 'Antonin Pottier', 'Antonio Ariño Villarroya', 'Antonio Bucchiarone', 'Antonio Desiderio', 'Antonio Lima', 'Antonio Longa', 'Antonio Rojas-Garcia', 'Antti Gronow', 'Anubhab Das', 'Anya Hommadova Lu', 'Ardon Z. Shorr', 'Arianna Pera', 'Arkaitz Zubiaga', 'Armando Bazzani', 'Armin Pournaki', 'Arnault Chatelain', 'Arnout van de Rijt', 'Artem Kuriksha', 'Artem Volgin', 'Arti Thakur', 'Arttu Malkamäki', 'Arun Frey', 'Ashesh Rambachan', 'Ashiqur R KhudaBukhsh', 'Ashley Francisco', 'Ashley Muddiman', 'Ashlyn B. Aske', 'Ashton Anderson', 'Astrid Gühnemann', 'Athina Anastasiadou', 'Attila Varga', 'Atushi Ishikawa', 'August Lohse', 'Avi Gamoran', 'Ayan-Yue Gupta', 'Aymeric Luneau', 'Babak Heydari', 'Bahador Bahrami', 'Bahareh Sarrafzadeh', 'Bailey Fosdick', 'Baird Howland', 'Balaraju Battu', 'Balazs Vedres', 'Balázs Lengyel', 'Bao Tran Truong', 'Barbara Keller', 'Beatrice Bonami', 'Beatrice Rammstedt', 'Becky P.Y. Loo', 'Bedoor Alshebli', 'Beibei Li', 'Belén C Saldías Fuentes', 'Benedikt Ströbl', 'Benjamin C Holding', 'Benjamin Frank Maier', 'Benjamin J Radford', 'Bennard Doornbos', 'Bernard Koch', 'Bernardo Garcia Bulle Bueno', 'Bertram Malle', 'Bethany Hsiao', 'Beverly Laher', 'Bhargav Srinivasa Desikan', 'Bin Wang', 'Blas Kolic', 'Bogdan State', 'Bojan Kostic', 'Bokányi', 'Boleslaw K. Szymanski', 'Bradley Spahn', 'Bramantyo Supriyatno', 'Brenda Curtis', \"Brendan O'Connor\", 'Brennan Klein', 'Brian Keegan', 'Brian Uzzi', 'Briony Swire-Thompson', 'Brooke Foucault Welles', 'Bruno Lepri', 'Bruno Zamengo', 'Byungkyu Lee', 'Calvin Yixiang Cheng', 'Camelia Oprea', 'Cameron Lai', 'Camila Tsuzuki', 'Camille Landesvatter', 'Camille Roth', 'Camille Testard', 'Carina Ines Hausladen', 'Carl Nordlund', 'Carlo Valensise', 'Carlos Callejo Penalba', 'Carlos Castillo', 'Carlos Fernandez-Basso', 'Carlos Nunes Silva', 'Carlos Rodriguez', 'Carlos Rodriguez-Sickert', 'Carlson Moses Büth', 'Carmen Leicht-Scholten', 'Carmine Spagnuolo', 'Carolina Coimbra Vieira', 'Carolina Mattsson', 'Caroline C. Murray', 'Carsten Schwemmer', 'Casey Randazzo', 'Cassandra Overney', 'Cassidy R. Sugimoto', 'Catalina Vajiac', 'Caterina Suitner', 'Cathy Fang', 'Cecilia Monge', 'Ceren Budak', 'Cesar A Hidalgo', 'Cesar Augusto Marin', 'Chacha Chen', 'Chanuwas Aswamenakul', 'Chao Yu', 'Chao-Chun Hsu', 'Chaofeng Wu', 'Charalampos Saitis', 'Charles Rahal', 'Cheick Tidiane Ba', 'Cheng Pan', 'Chia-Jung Tsai', 'Chiara Chiavenna', 'Chiara Serra', 'Chico Q Camargo', 'Chloe Ahn', 'Chloe Eggleston', 'Chris Baber', 'Chris Callison-Burch', 'Christa Brelsford', 'Christian Almenar', 'Christian Czymara', 'Christian L Vestergaard', 'Christian Staal Bruun Overgaard', 'Christian Strippel', 'Christiern Santos Rasmussen', 'Christine Vega Pourheydarian', 'Christoffer Green-Pedersen', 'Christoffer Koch Florczak', 'Christoph Bartenhagen', 'Christoph Benedikt Gote', 'Christoph Kern', 'Christoph Stadtfeld', 'Christopher Bail', 'Christopher Danforth', 'Christopher I Jarvis', 'Chung-Kon Shi', 'Ciro Cattuto', 'Claire Glanois', 'Clara Bersch', 'Clara Boothby', 'Clara Vandeweerdt', 'Claudia Acciai', 'Claudia Wagner', 'Clemens M. Lechner', 'Clemens Stachl', 'Clodomir Santana', 'Cody Buntain', 'Coen D Needell', 'Connor Cantrell', 'Corine Meppelink', 'Cornelius Puschmann', 'Corrado Monti', 'Cristian E Candia', 'Cuihua Shen', 'Cynthia Rudin', 'D. Sunshine Hillygus', 'Dafna Yavetz', 'Damian Serwata', 'Damian Trilling', 'Damiano Morando', 'Damin Lee', 'Dan Calacci', 'Dan Dai', 'Dan Franks', 'Dan Jurafsky', 'Dan Thomsen', 'Daniel A. McFarland', 'Daniel Acuna', 'Daniel J Corsi', 'Daniel Larremore', 'Daniel Matter', 'Daniel Nagin', 'Daniel Romero', 'Daniel Scott Smith', 'Daniel Torren Peraire', 'Daniel Valdenegro', 'Daniela Paolotti', 'Daniela Perrotta', 'Daniela Valdes', 'Daniele De Vinco', 'Daniele Gambetta', 'Daniele Quercia', 'Daniele Rama', 'Darko Stojilovic', 'Darren Croft', 'Darya Zare', 'Dashun Wang', 'David Axelrod', 'David Dreyer Lassen', 'David Garcia', 'David Holtz', 'David Joachim Grüning', 'David Joyner', 'David Jurgens', 'David Lagnado', 'David Lusseau', 'David Mimno', 'David Mingfei Liu', 'David Page', 'David Rand', 'David Rothschild', 'David Sanchez', 'David Schoch', 'Davide Proserpio', 'Davide Vega', 'Deb Roy', 'Debora Nozza', 'Delphine De Moor', 'Denis Bonnay', 'Denis E Hudon', 'Dennis Assenmacher', 'Denny Borsboom', 'Derek Greene', 'Diana Roig Sanz', 'Diana Verdes', 'Dilrukshi Gamage', 'Dimitra Dimitrakopoulou', 'Dimitris Kotzinos', 'Dingeman Jan Van der Laan', 'Disha Saini', 'Djordje Grbic', 'Donghyun Kang', 'Dongning Deng', 'Dongwoo Lim', 'Dorian Quelle', 'Doug Beeferman', 'Douglas Leasure', 'Douglas Richard Guilbeault', 'Drew Dimmery', 'Duilio Balsamo', 'Duncan Watts', 'Dustin S Stoltz', 'Dustin Wright', 'Dylan Connor', 'Dylan Paltra', 'Dylan Thurgood', 'Eaman Jahani', 'Ebru Sanliturk', 'Eckehard Olbrich', 'Eddie Rossi', 'Edit Paulo', 'Edmond Awad', 'Edward Abel', 'Edward Lee', 'Edwin De Jonge', 'Eiji Aramaki', 'Eladio Montero-Porras', 'Elena Pavan', 'Elias Fernández Domingos', 'Elias Najarro', 'Elisa Omodei', 'Elisabet CarbÃ³ Catalan', 'Elisabeth Stockinger', 'Eliza Stenzhorn', 'Elizaveta Chernenko', 'Elizaveta Sivak', 'Ella Clement', 'Elliot Pickens', 'Elliott Ash', 'Elohim Fonseca dos Reis', 'Em Bello-Pardo', 'Emanuele Cozzo', 'Emil Bakkensen Johansen', 'Emilio Ferrara', 'Emilio Zagheni', 'Emily L Wang', 'Emma Hoes', 'Emma Spiro', 'Emmanouil Tranos', 'Emmeke Aarts', 'Emoke-Agnes Horvat', 'Eni Mustafaraj', 'Enrico Cantoni', 'Enshu Cheng', 'Eraldo Ribeiro', 'Erez Shmueli', 'Erez Yoeli', 'Eric Dignum', 'Eric Giannella', 'Erick Elejalde', 'Erin Walk', 'Erjian Liu', 'Erkan Gunes', 'Erkki Tapio Isometsä', 'Esteban Moro', 'Ethan Porter', 'Eugenio Valdano', 'Evelien Snippe', 'Eyal Perry', 'Ezequiel Lopez Lopez', 'Ezzat Elokda', 'Fabian Baumann', 'Fabian Braesemann', 'Fabio Carrella', 'Fabio Giglietto', 'Fabián Aguirre-López', 'Fabrizio Gilardi', 'Fabrizio Lillo', 'Facundo Carrillo', 'Fan Liang', 'Fan Yin', 'Fariba Karimi', 'Fatima Alqabandi', 'Fausto Giunchiglia', 'Federico Barrera-Lemarchand', 'Federico Botta', 'Federico Delussu', 'Federico Mazzoni', 'Federico Musciotto', 'Federico Pilati', 'Federico Zimmerman', 'Feiyang Zhang', 'Felix Gaisbauer', 'Felix Lennert', 'Felix Schmidt', 'Felix Victor Münch', 'Feng Fu', 'Fengli Xu', 'Fengyi Zheng', 'Fengyuan Michael Liu', 'Ferdinand Le Coz', 'Filipi Nascimento Silva', 'Filippo Menczer', 'Filippo Privitera', 'Fiona Lee', 'Fionneke M Bos', 'Florian Barbaro', 'Florian Keusch', 'Floriana Gargiulo', 'Fons Rademakers', 'Fosca Giannotti', 'Francesca Chiaromonte', 'Francesco Barbieri', 'Francesco Bonchi', 'Francesco Lamperti', 'Francesco Pierri', 'Francesco Rinaldi', 'Francesco Silvestri', 'Francesco Tudisco', 'Francisco Barreras', 'Francisco C Santos', 'Francisco Olivos', 'Frank Berthold', 'Frank Neffke', 'Frank Pantano', 'Frank Peter Pijpers', 'Frank Pijpers', 'Frank Schweitzer', 'Frank W. Takes', 'Frank van Tubergen', 'Franziska Keller', 'Frauke Kreuter', 'Frederik Andersen', 'Frederik Riedel', 'Fredrik Jansson', 'Friedrich Götz', 'Fujio Toriumi', 'Fátima Velásquez-Rojas', 'Gabriela Juncosa', 'Gabriela Salazar Lopez', 'Gabriele Etta', 'Gabriele Santin', 'Gabriella Harari', 'Gabriella Lapesa', 'Galen Stocking', 'Gautam Thakur', 'Gaël Le Mens', 'Gemma Read', 'Genki Ichinose', 'Gennaro Cordasco', 'George Bikhazi', 'George Fletcher', 'George Gyamfi', 'Gerardo Iñiguez', 'Gergo Toth', 'Gerret von Nordheim', 'Gert Stulp', 'Giada Marino', 'Gianmarco De Francisci Morales', 'Gianni Barlacchi', 'Giona Casiraghi', 'Giorgio Tripodi', 'Giovanni Da San Martino', 'Giovanni Mauro', 'Giulia Cencetti', 'Giulia De Pasquale', 'Giulia Martini', 'Giulio Cimini', 'Giulio Corsi', 'Giulio Rossetti', 'Giuseppe Russo', 'Giyeon Baek', 'Gordon Pennycook', 'Gourab Ghoshal', 'Graham Tierney', 'Gregorio López', 'Guangnan Zhu', 'Guilherme Lichand', 'Guillaume Cabanac', 'Guy Zyskind', 'Gwyneth Sutherlin', 'Gülşah Akçakır', 'Haaya Naushan', 'Haewoon Kwak', 'Haiko Lietz', 'Hal Ashton', 'Hamida Seba', 'Hammaad Adam', 'Han Zheng', 'Hancheng Cao', 'Hang Jiang', 'Hannah Metzler', 'Hannah-Marie Büttner', 'Hao Cui', 'Hao Peng', 'Haochuan Cui', 'Haohan Shi', 'Haoning Xue', 'Harsh Parikh', 'Hasan Alp Boz', 'Hause Lin', 'Hayato Misumi', 'Heidi Schulze', 'Helen Margetts', 'Helena Sophia Rauxloh', 'Hemank Lamba', 'Hendrik Erz', 'Hendrik Meyer', 'Henrik Wolf', 'Hikaru Asano', 'Hilke Brockmann', 'Hillel Rapoport', 'Hirokazu Shirado', 'Hiroki Takikawa', 'Hiromu Takahashi', 'Hiu Sze Chan', 'Hocine Cherifi', 'Holger Steinmetz', 'Homa Hosseinmardi', 'Hongshan Jin', 'Hono Shirai', 'Hope Schroeder', 'Hriday Chheda', 'Hugo Barbosa', 'Hugo Contreras', 'Hugo Subtil', 'Hui Wang', 'Huiyi Lv', 'Huiyi Lyu', 'Huma Rasheed', 'Hyejin Youn', 'Hyeseung Shim', 'Hywel T.P. Williams', 'Iacopo Iacopini', 'Ian Barnett', 'Ian Krajbich', 'Ian Stewart', 'Ibrahim Farouq', 'Ichiro Sakata', 'Ijaz Ul Haq', 'Ilaria Montagni', 'Ilona Horwath', 'Indira Sen', 'Indrajeet Patil', 'Indraneel Mane', 'Inga Trauthig', 'Ingmar Weber', 'Inho Hong', 'Inês Terrucha', 'Irena Đorđević', 'Irmandy Wicaksono', 'Isabel Lerch', 'Isabel Sebire', 'Isabela Inês', 'Isabella Loaiza', 'Isabelle Augenstein', 'Isabelle Langrock', 'Isabelle Lorge', 'Ivan Dotu', 'Ivan Savin', 'Ivan Smirnov', 'Ivano Bison', 'Iyad Rahwan', 'Iñaki Ucar', 'Jack LaViolette', 'Jacob Beck', 'Jacob Habinek', 'Jacob R Brown', 'Jacob Thebault-Spieker', \"Jacopo D'Ignazi\", 'Jad Kabbara', 'Jaehong Ahn', 'Jaehyuk Park', 'Jaime Pérez', 'Jake M. Hofman', 'Jakob Schlierf', 'Jamell Dacon', 'James Bagrow', 'James Calum Young', 'James Evans', 'James Michelson', 'James P Houghton', 'James Winters', 'Jamil Zaki', 'Jan Bachmann', 'Jan Engler', 'Jan Nikadon', 'Jan-Philipp Rau', 'Jana Lasser', 'Janet B. Pierrehumbert', 'Jar-Der Luo', 'Jari Saramäki', 'Jason Burton', 'Jason C Coronel', 'Jason Hiigh Thompson', 'Jason Rentfrow', 'Javier Alvarez-Galvez', 'Javier Borge Holthoefer', 'Javier Ureña Carrion', 'Jean-Philippe Cointet', 'Jeff Jacobs', 'Jeff T Sheng', 'Jeffrey Gleason', 'Jelena Grujić', 'Jennifer Pan', 'Jeremiah Milbauer', 'Jeremiah Onaolapo', 'Jeroen Jonkman', 'Jesper Wiborg Schneider', 'Jesse Piburn', 'Jessica J Santana', 'Jesus Berrios', 'Jesús A. Prieto-Alonso', 'Jevin West', 'Jia Lin Cheoh', 'Jia-Ru Song', 'Jiani Yan', 'Jianxun Chu', 'Jiao Sun', 'Jiaxin Pei', 'Jie Hua', 'Jihoon Kim', 'Jiliang Tang', 'Jingwen Zhang', 'Jinhyuk Yun', 'Jinjun Xiong', 'Jinseo Park', 'Jisu Kim', 'Jisun An', 'Joachim Baumann', 'Joanna Bryson', 'Joaquín Navajas', 'Joel Harrison Suss', 'Johann Schaible', 'Johanna Einsiedler', 'Johanna Gunawan', 'Johannes Ross', 'Johannes Wachs', 'John Bryden', 'John W Edmunds', 'Jolien Cremers', 'Jon Kleinberg', 'Jon Roozenbeek', 'Jonas Alexander Havstein Eriksen', 'Jonas L Juul', 'Jonas Raaschou-Pedersen', 'Jonathan Bright', 'Jonathan Cohen', 'Jonathan Green', 'Jonathan P. Chang', 'Jonathan St-Onge', 'Jonathan Zhu', 'Jordan Dworkin', 'Jordan Hart', 'Jorge Gil', 'Jose Miguel Cordova', 'Josefine Bohr Brask', 'Josep Perelló', 'Josephine Lukito', 'Joshua Garland', 'José Ignacio Alvarez-Hamelin', 'José Javier Ramasco', 'Juan Carlos Rocha', 'Judith Moeller', 'Juergen Lerner', 'Juhi Kulshrestha', 'Julia Hirschberg', 'Julia Huschens', 'Julia Koltai', 'Julia Szamely', 'Julian Berger', 'Julian Jaursch', 'Julian Polenz', 'Julian Winkler', 'Julien Figeac', 'Julieta Ruiz', 'June Young Lee', 'Juniper L Lovato', 'Junran Yang', 'Junsol Kim', 'Justyna Czestochowska', 'János Kertész', 'Jörg Claussen', 'Jürgen Pfeffer', 'K. Hunter Wapman', 'Kai-Cheng Yang', 'Kaixiang Kang', 'Kaiya Soorholtz', 'Kangsan Lee', 'Karim Hamade', 'Karim Lasri', 'Karmanya Aggarwal', 'Karolina Stanczak', 'Karthikeya Kaushik', 'Kasper Welbers', 'Kat Albrecht', 'Katayoun Farrahi', 'Kate Joynes-Burgess', 'Kate L. Wootton', 'Kate Niederhoffer', 'Kateryna Kasianenko', 'Katharina Burgdorf', 'Katharina Kleinen', 'Katharina Lawall', 'Kathyrn R Fair', 'Katie Spoon', 'Katinka Den Nijs', 'Katrin Weller', 'Kayla Duskin', 'Kazuhiro Seki', 'Kazutoshi Sasahara', 'Ke Li', 'Ke Zhou', 'Keeley Erhardt', 'Keiichiro Tsukamoto', 'Kellner Aniko', 'Kelton R Minor', 'Kenjiro Inoue', 'Kenneth Joseph', 'Kerry Wong', 'Kevin Munger', 'Kevin Sparks', 'Keyu Zhu', 'Khalid K Osman', 'Kimitaka Asatani', 'Kinga Makovi', 'Kiran Garimella', 'Kishore Vasan', 'Kiyoshi Izumi', 'Kobi Hackenburg', 'Kokil Jaidka', 'Kongmeng Liew', 'Koustuv Saha', 'Kristen Engel', 'Kristian Peter Lorenzen', 'Kristian Tylén', 'Kristina Aleksandrovna Pedersen', 'Kristina Gligoric', 'Kristoffer Lind Glavind', 'Kumar Chandra', 'Kun He', 'Kunihiro Miyazaki', 'Kyriaki Kalimeri', 'Laetitia Gauvin', 'Laila Wegner', 'Lama Abdulrahman Alqazlan', 'Lau Lilleholt Harpviken', 'Laura Boeschoten', 'Laura Casanovas Buliart', 'Laura Ferrarotti', 'Laura Hernandez', 'Laura Leone', 'Laura Maria Alessandretti', 'Laura Nelson', 'Laura Victoria Lescano', 'Laurel Bobrow', 'Lauren Brent', 'Laurence Brandenberger', 'Laurent Hebert-Dufresne', 'Lavinia Rossi Mori', 'Layla Bouzoubaa', 'Lea Biere', 'Lejla Dzanko', 'Lena Mangold', 'Lena Masch', 'Leo Ferres', 'Leon Fröhling', 'Leonardo Castro-Gonzalez', 'Leonardo Ferres', 'Leonardo Rosado', 'Leonie Neuhäuser', 'Leslie DeChurch', 'Lester Mackey', 'Letizia Iannucci', 'Levin Brinkmann', 'Li Liao', 'Li Zhang', 'Lian van der Krieke', 'Licia Capra', 'Likun Cao', 'Lili Miao', 'Lillio Mok', 'Lin Ai', 'Linda Coufal', 'Linda Li', 'Linda Steg', 'Lindsay Larson', 'Lingfei Wu', 'Linnea Gandhi', 'Lion Wedel', 'Lisa Anne Hendriks', 'Lisa Argyle', 'Lisa Green', 'Lisa Merten', 'Lisette Espin-Noboa', 'Lonjezo Dzekedzeke', 'Lorenzo Amir Nemati Fard', \"Lorenzo Dall'Amico\", 'Lorenzo De Masi', 'Lorenzo Lucchini', 'Loreto Bravo', 'Lorin Crawford', 'Louis Boucherie', 'Louis Michael Shekhtman', 'Louisa Jane Di Felice', 'Lu Sun', 'Luca Luceri', 'Luca Maria Aiello', 'Luca Pappalardo', 'Luca Rossi', 'Lucila Gisele Alvarez Zuzek', 'Lucio La Cava', 'Lucía Pedraza', 'Lui Ruck', 'Luigi Arminio', 'Luis M Rocha', 'Luisa Carrer', 'Luiz Neves', 'Lyle Ungar', 'Lynn Smith-Lovin', 'Léo Meynent', 'Maciej J. Dańko', 'Maddalena Conte', 'Mael Kubli', 'Magdalena Formanowicz', 'Magnus Resch', 'Mahasweta Chakraborti', 'Mahdi Mostajabdaveh', 'Mahnaz Roshanaei', 'Maimuna S Majumder', 'Mainack Mondal', 'Makoto Mizuno', 'Malte Jung', 'Malvina Nissim', 'Manju Bura', 'Manlio De Domenico', 'Manoel Horta Ribeiro', 'Manoel Ribeiro', 'Manuel Cebrian', 'Manuel Garcia-Herranz', 'Manuel Tonneau', 'Manuel Vimercati', 'Marc Keuschnigg', 'Marc Sadurní Parera', 'Marcelo Silva', 'Marcin Waniek', 'Marco Agnolon', 'Marco De Nadai', 'Marco Pangallo', 'Marco Tonin', 'Marcos Oliveira', 'Mareike Wieland', 'Maren Schuster', 'Margaret Roberts', 'Margaret Samahita', 'Margarita Torre', 'Maria Cucciniello', 'Maria Sahakyan', 'Maria Zens', 'Maria del Rio Chanona', 'Mariana Macedo', 'Mariano Gastón Beiró', 'Mariano Sigman', 'Marie Decker', 'Marie Urban', 'Marie-Laure Charpignon', 'Marieke Van Hoof', 'Marijn ten Thij', 'Marilena Hohmann', 'Mario Castro', 'Mario L. Small', 'Marios Constantinides', 'Marisa Affonso Vasconcelos', 'Marisa Vasconcelos', 'Marita Lítlá', 'Marius Sältzer', 'Marjolijn Das', 'Mark Boukes', 'Mark E Whiting', 'Mark Wittek', 'Markus Strohmaier', 'Marlene Lutz', 'Marshall A Taylor', 'Marta Gonzalez', 'Martin Arvidsson', 'Martin Gerlach', 'Martin Hilbert', 'Martin Koenen', 'Martin Loidl', 'Martin Saveski', 'Mary Hu', 'Maryna Sydorova', 'Masanori Hirano', 'Masaru Kitsuregawa', 'Masashi Toyoda', 'Massimiliano Luca', 'Massimo Stella', 'Mateusz Nurek', 'Mathias Wullum Nielsen', 'Mathieu Génois', 'Mathieu Roche', 'Matija Franklin', 'Matt Rocklage', 'Matteo Cinelli', 'Matteo Montecchi', 'Matteo Palmonari', 'Matteo Zignani', 'Matthew Bramwell Bone', 'Matthew Donald Sweitzer', 'Matthew Edwards', 'Matthew R DeVerna', 'Matthew Sharpe', 'Matthew Silk', 'Matti Nelimarkka', 'Mattia Mazzoli', 'Mattia Samory', 'Max Callaghan', 'Max Falkenberg', 'Max Lagencamp', 'Max Pellert', 'Maxim Derex', 'Maximilian Hampel', 'Maximilian Schich', 'Meghan Armstrong', 'Melanie Oyarzun', 'Melissa J Dreier', 'Melvyn Tyloo', 'Mengjie Cheng', 'Meysam Alizadeh', 'Mia Ann Jørgensen', 'Micah Epstein', 'Michael Cook', 'Michael Geers', 'Michael Gilead', 'Michael Inzlicht', 'Michael Macy', 'Michael Matzenberger', 'Michael Quayle', 'Michael Roth', 'Michael Szell', 'Michael T Schaub', 'Michael Vincent Arnold', 'Michał Olech', 'Michał‚ Czuba', 'Michel Dubois', 'Michelangelo Rossi', 'Michele Avalle', 'Michele Coscia', 'Michele Starnini', 'Michele Tizzoni', 'Miguel A González Casado', 'Miguel Rivera-Lanas', 'Miguel Souza', 'Mihai Burzo', 'Mikihito Tanaka', 'Mikiko Shimaoka', 'Mikko Kivelä', 'Milena Tsvetkova', 'Ming-Hung Wang', 'Mingjing Yin', 'Mingmeng Geng', 'Minje Choi', 'Minsu Park', 'Miquel Montero', 'Mirco Musolesi', 'Miriam Hurtado Bodell', 'Miriam Redi', 'Mirjam De Bruijn', 'Mirta Galesic', 'Miruna Cotet', 'Mitsuo Yoshida', 'Moena Hashimoto', 'Mohamed Abouelenien', 'Mohammad Amaan Haque', 'Mohammad Atari', 'Mohammadhadi Aliahmadi', 'Mohammed Alsobay', 'Mohsen Bahrami', 'Mohsen Mosleh', 'Molly Crockett', 'Monica Bianchini', 'Morgan Ryan Frank', 'Morten Mørup', 'Mourad Heddaya', 'Muhammad Ali', 'Munjung Kim', 'Mykola Makhortykh', 'Mykola Pechenizkiy', 'Márton Karsai', 'Márton Rakovics', 'Mónika Simon', 'NAKAO Ran', 'Nabeel Gillani', 'Nail Furkan Bashan', 'Nalette Brodnax', 'Nandini Iyer', 'Nanyun Peng', 'Naoki Yoshinaga', 'Narayani Vedam', 'Natalie J. Stroud', 'Natalie McDaniel Gallagher', 'Nate Holers', 'Natkamon Tovanich', 'Navya Suri', \"Neave O'Clery\", 'Neeley Pate', 'Neil A. Tenenholtz', 'Neil Fasching', 'Neville Stanton', 'Nguyen Luong', 'Niccolo Pescetelli', 'Nicholas Buttrick', 'Nicholas Christakis', 'Nicholas Diakopoulos', 'Nicholas J Pangakis', 'Nicholas LaBerge', 'Nicholas Vincent', 'Nick Obradovich', 'Nicola Fanton', 'Nicola Pedreschi', 'Nicola Perra', 'Nicole Nisbett', 'Nicolò Alessandro Girardini', 'Nicolò Pagan', 'Nicoló Cavalli', 'Nicoló Gozzi', 'Nidhi Sethi', 'Niel Hens', 'Niklas Stoehr', 'Nikolaj Arpe Harmon', 'Nikolaos Nakis', 'Nikolitsa Grigoropoulou', 'Nils Christopher Köbis', 'Nir Grinberg', 'Niyati Malhotra', 'Noshir Contractor', 'Nour Kteily', 'Nuria Caceres', 'Oana Goga', 'OcÃ©ane Boulais', 'Ohhyun Kwon', 'Ole Teutloff', 'Oliver Baumann', 'Oliver Posegga', 'Olivier Togni', 'Ollie Ballinger', 'Ollin Demian Langle-Chimal', 'Omar Guerrero', 'Onicio Leal', 'Onur Varol', 'Ophelia Deroy', 'Orestis Papakyriakopoulos', 'Oriol Artime', 'Orsolya Vasarhelyi', 'Osamu Sakura', 'Oscar Araque', 'Otto Kässi', 'Ourania Kolokotroni', 'Ozgur Can Seckin', 'PJ Lamberson', 'Pablo Andres Astudillo', 'Pablo Balenzuela', 'Pablo Hernández-Lagos', 'Pablo Moral', 'Palakorn Achananuparp', 'Pantelis P. Analytis', 'Pantelis Pipergias Analytis', 'Paola Tubaro', 'Paolo Bajardi', 'Pascal Van Hentenryck', 'Patrice Wangen', 'Patrick Gildersleve', 'Patrick Park', 'Patrick Zerrer', 'Paul C. Bauer', 'Paul Salmon', 'Paulina Bondaronek', 'Paulina Pankowska', 'Paweł Jurek', 'Pearl Pandya', 'Pedro Ramaciotti Morales', 'Peidong Mei', 'Peter Dodds', 'Peter Meylakhs', 'Petter Holme', 'Philip Howard', 'Philip Waggoner', 'Philipp Kessling', 'Philipp Lorenz-Spreen', 'Philippe Beutels', 'Pia Gutsmiedl', 'Pier Luigi Sacco', 'Pieter Simoens', 'Pietro Alessandro Aluffi', 'Pietro Coletti', 'Pietro Lio', 'Piotr Bródka', 'Piotr Sapiezynski', 'Piyush Ghasiya', 'Priscila Alvarez-Cueva', 'Priyanka Goonetilleke', 'Priyanshi Sharma', 'Przemyslaw A. Grabowicz', 'Przemyslaw Kazienko', 'Pu Yan', 'Pádraig Mac Carron', 'Qi Wang', 'Qiankun Zhong', 'Qianru Meng', 'Qin Li', 'Qing Ke', 'Qingtao Cao', 'Qiusi Sun', 'Qiwei Han', 'Quinn Lanners', 'Rachith Aiyappa', 'Rada Mihalcea', 'Radosław Michalski', 'Ralf Kurvers', 'Ralph Schroeder', 'Ramesh Jagannathan', 'Ramit Debnath', 'Ranadheer Malla', 'Randall Harp', 'Raphael H. Heiberger', 'Ray Funahashi', 'Rebecca Adler-Nissen', 'Rebekah Getman', 'Regina Widjaya', 'Reid McIlroy-Young', 'Remi Emonet', 'Renaud Lambiotte', 'Rens Vliegenthart', 'Rense Corten', 'Renzhe Yu', 'Renzo Bianchi', 'Riccardo Di Clemente', 'Riccardo Gallotti', 'Richard Bruggeman', 'Richard Freedman', 'Ridhi Kashyap', 'Riley Tucker', 'Rion Brattig Correia', 'Rishabh Kaushal', 'Rob Chew', 'Robb Willer', 'Robert Gordon Rinderknecht', 'Robert Mahari', 'Robert West', 'Roberta Rocca', 'Roberta Sinatra', 'Roberto Interdonato', 'Roberto Mavilia', 'Roberto Trotta', 'Roberto Ulloa', 'Robin Delabays', 'Rodger Richer', 'Rodrigo Troncoso', 'Roeland Dubèl', 'Roland Toth', 'Roman Kyrychenko', 'Ronald E. Robertson', 'Ronaldo Menezes', 'Roney Reis', 'Rosa Weidenspointner', 'Rosalia Steffi Longjam', 'Rossano Schifanella', 'Rubing Shen', 'Rubén Rodríguez Casañ', 'Rudolf Hanel', 'Rudy Arthur', 'Ruhao Liu', 'Rupert Kiddle', 'Rupert Tibor Kiddle', 'Ruth Elisabeth Appel', 'Ryan Cotterell', 'Ryan Louis Stevens', 'Ryan Whalen', 'Ryota Kobayashi', 'Rémi Perrier', 'Rémi Suchonn', 'Sabine Brunswicker', 'Sabrina Nardin', 'Sabrina Tiziana Gaito', 'Sacha Epskamp', 'Sadamori Kojaku', 'Saeedeh Mohammadi', 'Sagar Joglekar', 'Sagar Kumar', 'Sahar Baribi-Bartov', 'Sahil Chinoy', 'Sahil Loomba', 'Sahil Verma', 'Sajid Siraj', 'Salim Chouaki', 'Salvatore Giorgi', 'Salvatore Vilella', 'Sam Heroy', 'Sam Zhang', 'Samantha Vanderslott', 'Samar Haider', 'Sami Alexej Nenno', 'Samin Aref', 'Samsun Knight', 'Samuel Fraiberger', 'Samuel Wolken', 'Samuel Woolley', 'Sander van der Linden', 'Sandipan Sikdar', 'Sandor Juhasz', 'Sandra Gonzalez-Bailón', 'Sandro Ferreira Sousa', 'Sandro Lera', 'Sandro Meloni', 'Sanggoo Kang', 'Sanja Scepanovic', 'Sanja Šćepanović', 'Sanjay Kairam', 'Sanne Smith', 'Santo Fortunato', 'Sara Bonati', 'Sara Heydari', 'Sara Venturini', 'Sarah Grobe', 'Sarah Ita Levitan', 'Sarah Tell', 'Sarah Valdez', 'Sarvenaz Ebrahimi', 'Satoshi Tohda', 'Satyaki Sikdar', 'Saumya Tripathi', 'Saurabh Khanna', 'Saverio Bolognani', 'Savvas Zannettou', 'Sawa Yoshioka', 'Scott A. Hale', 'Scott Friedman', 'Scott McClean', 'Sean Kelty', 'Sean P. Rogers', 'Sebastian Mildiner Moraga', 'Sebastian Steffen', 'Sebastian Stier', 'Sebastiano Antonio Piccolo', 'Sebastiano Bontorin', 'Segun Aroyehun', 'Selim Balcisoy', 'Seong-Min Jun', 'Seongwoon Kim', 'Seoyoung Kweon', 'Serena Jimyn Soh', 'Serine Ramlawi', 'Seth Frey', 'Shadi Rezapour', 'Shahan Ali Memon', 'Shahar Somin', 'Shannon Poulsen', 'Shaomei Wu', 'Sharad Goel', 'Sharath Chandra Guntuku', 'Sharon Kang', 'Shatayu Kulkarni', 'Shaun Bevan', 'Shayne Longpre', 'Shelby Grossman', 'Shilad Sen', 'Shima Saniei', 'Shintaro Igari', 'Shintaro Sakai', 'Shintaro Ueki', 'Sho Cho', 'Sho Tsugawa', 'Shohei Hisamitsu', 'Shoko Wakamiya', 'Shotaro Ishihara', 'Shouji Fujimoto', 'Shreya Havaldar', 'Shujun Li', 'Shunichi Kasahara', 'Shuntaro Yada', 'Shunyuan Zhang', 'Siddhartha Sen', 'Silke Adam', 'Silvia Bartolucci', 'Silvia De Sojo Caso', 'Silvia Ioana Fierăscu', 'Silvia Leoni', 'Sima Farokhnejad', 'Simon Colton', 'Simon Martin Breum', 'Simon P. von der Maase', 'Simon Walo', 'Simone Centellegher', 'Simone Paolo Ponzetto', 'Simone Santoni', 'Siqi Wu', 'Sirus Bouchat', 'Sky CH-Wang', 'Somya Tomar', 'Sonia Yeh', 'Sonja M Schmer-Galunder', 'Sonja Walter', 'Sophia Johanna Schlosser', 'Soroush Vosoughi', 'Sota Watanabe', 'Sourav Medya', 'Spencer Poodiack Parsons', 'Srdja Dragovic', 'Srishti Vashistha', 'Stasa Milojevic', 'Stefan Gössling', 'Stefan Katz', 'Stefan M. Herzog', 'Stefan Sarkadi', 'Stefan Stanciulescu', 'Stefan Wuchty', 'Stephan Lewandowsky', 'Stephanie Eckman', 'Stephen Davies', 'Subhayan Mukerjee', 'Sucheta Ghosh', 'Sudhanshu Mishra', 'Sujan Dutta', 'Sukankana Chakraborty', 'Sukrit Venkatagiri', 'Suman Maity', 'Sumer Vaid', 'Sune Lehmann', 'Sunny Rai', 'Surendra Hazarie', 'Susan Banducci', 'Susan Vermeer', 'Suyash Fulay', 'Sven Banisch', 'Sydney DeMets', 'Sylvain Fontaine', 'Szymon Talaga', 'Taberez Ahmed Neyazi', 'Taekho You', 'Taha Yasseri', 'Taichi Murayama', 'Taizo Horikomi', 'Takaharu Saito', 'Takahiro Miura', 'Takahiro Yabe', 'Takako Hashimoto', 'Takayuki Mizuno', 'Takayuki Uchiba', 'Takeaki Uno', 'Talal Rahwan', 'Talayeh Aledavood', 'Tamara Yaikin', 'Tamer Ajaj', 'Tao Jia', 'Tara Sowrirajan', 'Taro Takaguchi', 'Taylor Brown', 'Taylor Jones', 'Ted Hsuan Yun Chen', 'Telmo Menezes', 'Tenzin Tamang', 'Termeh Shafie', 'Tessa Masis', 'Theresa Henn', 'Thomas Franz Müller', 'Thomas Louf', 'Thomas Talhelm', 'Tiago Oliveira Cunha', 'Tian Yang', 'Tiancheng Hu', 'Tianshu Chen', 'Tim Althoff', 'Tim Faverjon', 'Timothy Douglas', 'Tina Law', 'Ting Lian', 'Ting Luo', 'Tiziano Piccardi', 'Tobias Felix Werner', 'Tobin South', 'Tom Emery', 'Tom Grad', 'Tom Kemeny', 'Tom Lenaerts', 'Tom Theile', 'Tomaso Erseghe', 'Tommaso Bondi', 'Tomomi Kito', 'Tongyu Ding', 'Tony Carden', 'Tornike Tsereteli', 'Toshiharu Sugawara', 'Toshiya Saito', 'Towa Suda', 'Trevor James Swanson', 'Trisevgeni Papakonstantinou', 'Tristram Alexander', 'Tugrulcan Elmas', 'Tuomas Ylä-Anttila', 'Tzu-Chi Yen', 'Uttama Barua', 'Vadim Voskresenskii', 'Valentin Pauli', 'Valentina Semenova', \"Valeria d'Andrea\", 'Valerii Chirkov', 'Vanessa Cheung', 'Varun Tandon', 'Vasanth Sarathy', 'Vedran Sekara', 'Veniamin Veselovsky', 'Vera Rocha', 'Vera Sosnovik', 'Veronica Lachi', 'Veronika Batzdorfer', 'Victor Galaz', 'Victor Hugo Orozco-Olvera', 'Victor Landaeta', 'Victor Navarro', 'Victoria Yantseva', 'Viktoria Spaiser', 'Vincent Buskens', 'Vincent Lariviere', 'Vincent Pons', 'Vincent Straub', 'Vincent Traag', 'Vincenzo Nicosia', 'Vittoria Colizza', 'Vittorio Loreto', 'Vjosa Preniqi', 'Vladimir Filkov', 'Vrushabh Vilas Wadnere', 'Vsevolod Suschevskiy', 'Víctor Navarro-Aránguiz', 'Walter Quattrociocchi', 'Wan Jou She', 'Wanqi Hu', 'Wen Hao HE', 'Wenjia Zhao', 'Wenlan Zhang', 'Wenna Chen', 'Wentao Xu', 'Wojtek Przepiorka', 'Woo-sung Jung', 'Xiajie Zhang', 'Xiang Ren', 'Xiao Zhang', 'Xiaodan Lou', 'Xiaohui WANG', 'Xiaoran Yan', 'Xiaowen Dong', 'Xiaoya Chen', 'Xinlan Emily Hu', 'Xinran Wang', 'Xinran Zhu', 'Xinwei Xu', 'Xinyi Wang', 'Xinyi Zhao', 'Xuanjun Jason Gong', 'Xubo Cao', 'Yakov Bart', 'Yan Asadchy', 'Yan Leng', 'Yan Xia', 'Yang Wang', 'Yaniv Altshuler', 'Yanmeng Xing', 'Yara Kyrychenko', 'Yasuhiro Suzuki', 'Yelena Mejova', 'Yevgeniy Golovchenko', 'Yian Yin', 'Yilang Peng', 'Yilun Xu', 'Yingxuan Liu', 'Yiwei Luo', 'Yizhou Fan', 'Yong-Yeol Ahn', 'Yoshi Meke Bird', 'Yotaro Takazawa', 'Yu-Wen Chen', 'Yu-Yao Tseng', 'Yuan Liao', 'Yuan Zhang', 'Yuanmo He', 'Yuchen Cao', 'Yujin Kim', 'Yuka Takedomi', 'Yunhao Yuan', 'Yunkyu Sohn', 'Yuri Nakayama', 'Yurie Iwata', 'Yuru Li', 'Yuta Tomokiyo', 'Yutao Chen', 'Yuwen Yu', 'Yuzuki Takahashi', 'Zachary Dillon Kline', 'Zachary Pangan', 'Zaid Al-Ars', 'Zexun Chen', 'Zeyneb Nahide Kaya', 'Zeyu Lyu', 'Zhemeng Xie', 'Zhen Xu', 'Zhicong Chen', 'Zhixuan Zhou', 'Zhuangyuan Fan', 'Zhuojian Wei', 'Zilin Lin', 'Zishan Lan', 'Ziv Epstein', 'Ziwen Chen', 'Zoe Rahwan', 'Zoltan Kmetty', 'Zsófia Rakovics', 'diogo pacheco', 'franco scarselli', 'luca verginer', 'salvatore Citraro', 'Étienne Ollion']\n"
     ]
    }
   ],
   "source": [
    "# we run the function again, and remove the first name down to a threshold of 85, as we began to mistakes in the people here \n",
    "\n",
    "fuzzy_matches = find_fuzzy_matches(names, threshold=85)\n",
    "\n",
    "print(f'Removing {len(fuzzy_matches)} duplicate names from the original name set')\n",
    "\n",
    "fuzzy_matches = [match[0] for match in fuzzy_matches] # we pick a very simple policy: we remove the first name of each list to save time.\n",
    "names = [name for name in names if name not in fuzzy_matches]\n",
    "\n",
    "print(f'We now have a list of {len(names)} researchers. Their names are {names}')\n"
   ]
  },
  {
   "cell_type": "code",
   "execution_count": 7,
   "metadata": {},
   "outputs": [],
   "source": [
    "with open(\"assignment_part_1_names.txt\", \"w\", encoding=\"utf-8\") as f:\n",
    "    f.write(\"\\n\".join(names))"
   ]
  },
  {
   "cell_type": "markdown",
   "metadata": {},
   "source": [
    "5. How many unique researchers do you get?"
   ]
  },
  {
   "cell_type": "code",
   "execution_count": 4,
   "metadata": {},
   "outputs": [
    {
     "name": "stdout",
     "output_type": "stream",
     "text": [
      "In total, we have found 1598 differnet researchers\n"
     ]
    }
   ],
   "source": [
    "print(f'In total, we have found {len(names)} differnet researchers')"
   ]
  },
  {
   "cell_type": "markdown",
   "metadata": {},
   "source": [
    "6. Explain the process you followed to web-scrape the page. Which choices did you make to accurately retreive as many names as possible? Which strategies did you use to assess the quality of your final list? Explain your reasoning and your choices (answer in max 150 words).\n"
   ]
  },
  {
   "cell_type": "markdown",
   "metadata": {},
   "source": [
    "In order to retrieve the most abundant dataset we looked through all three pages for names that could be found. On each page we inspected the page to figure out in which pattern the names could be found. Then carefully looking through the names on the page we would look for pitfalls such as names that included artefacts such as \"Chair: \", \"Keynote - \" or special chars such as: \"√\", \"°\", \"©\", \"§\" and avoid them by extracting the name (or excluding the name in case of special chars). \n",
    "\n",
    "In order to ensure that no name is repeated multiple times with slightly different spelling, we found a python library `thefuzz`, which allows for checking for fuzzy matching (an artificial intelligence and machine learning technology that identifies similar, but not identical elements https://redis.io/blog/what-is-fuzzy-matching/).\n",
    "\n",
    "Lastly, we went ahead and deleted matches in the array of similar names down to a threshold of 0.85."
   ]
  },
  {
   "cell_type": "markdown",
   "metadata": {},
   "source": [
    "# `Part 2:` Ready Made vs Custom Made Data\n"
   ]
  },
  {
   "cell_type": "markdown",
   "metadata": {},
   "source": [
    "> **Exercise 1: Ready made data vs Custom made data** In this exercise, I want to make sure you have understood they key points of my lecture and the reading. Remember to come and ask me, if you have any question about this! \n",
    ">\n",
    "> 1. What are pros and cons of the custom-made data used in Centola's experiment (the first study presented in the lecture) and the ready-made data used in Nicolaides's study (the second study presented in the lecture)? You can support your arguments based on the content of the lecture and the information you read in Chapter 2.3 of the book. \n",
    "\n",
    "One of the pros of Centola's custom-made data experiment is, that they're able to design and tailor the experiment, so they can investigate the difference in behaviour in controlled conditions. This could imply participants to be reactive, but since the experiment is run through an ad, the participants are nonreactive. However, a con of this could be change in behaviour since the experiment is ran through a social platform, so even though they are nonreactive, it becomes difficult to ensure that the data is a direct reflection of peoples behavior. \n",
    "\n",
    "In Nicolaides study, one of the cons of the study being ready made is, that its difficult to control the experiment to only examine the effects of specific social behavior. Of ready made data there is abundance of data. Since the data is always-on, it allows for measurements over time, and inclusion of demographic data enables the examination of various confounders, including even the weather.\n",
    "\n",
    "> 2. How do you think these differences can influence the interpretation of the results in each study?\n",
    "\n",
    "In the Centola experiment, since the data is custom-made, the results can be more confidently attributed to the underlying social mechanism being tested. The controlled conditions of the experiment makes it possible to find causal relationship by isolating the tested variable. However, because the experiment takes place on a website, participants might alter their behaviour, wanting to present a certain version of themselves, or by holding back due to unfamiliarity. This could affect how the results translate to real-world social settings. \n",
    "\n",
    "On the other hand, Nicolaides experiment, which uses ready-made data, provides real world data modelling social interactions over time increasing the generalization and the validity of the results. However, since the study is based in a real world setting, there could be confounding variables influencing the results. This makes it more difficult to explain a direct causal relationship. "
   ]
  },
  {
   "cell_type": "markdown",
   "metadata": {},
   "source": [
    "# `Part 3:` Gathering Research Articles using the OpenAlex API"
   ]
  },
  {
   "cell_type": "markdown",
   "metadata": {},
   "source": [
    "> **Exercise 1: Collecting Research Articles from IC2S2 Authors**\n",
    ">\n",
    ">In this exercise, we'll leverage the OpenAlex API to gather information on research articles authored by participants of the IC2S2 2024 conference, referred to as *IC2S2 authors*. **Before you start, please ensure you read through the entire exercise.**\n",
    ">\n",
    "> \n",
    "> **Steps:**\n",
    ">  \n",
    "> 1. **Retrieve Data:** Starting with the *authors* you identified in Week 2, Exercise 2, use the OpenAlex API [works endpoint](https://docs.openalex.org/api-entities/works) to fetch the research articles they have authored. For each article, retrieve the following details:\n",
    ">    - _id_: The unique OpenAlex ID for the work.\n",
    ">    - _publication_year_: The year the work was published.\n",
    ">    - _cited_by_count_: The number of times the work has been cited by other works.\n",
    ">    - _author_ids_: The OpenAlex IDs for the authors of the work.\n",
    ">    - _title_: The title of the work.\n",
    ">    - _abstract_inverted_index_: The abstract of the work, formatted as an inverted index.\n",
    "> \n",
    ">     **Important Note on Paging:** By default, the OpenAlex API limits responses to 25 works per request. For more efficient data retrieval, I suggest to adjust this limit to 200 works per request. Even with this adjustment, you will need to implement pagination to access all available works for a given query. This ensures you can systematically retrieve the complete set of works beyond the initial 200. Find guidance on implementing pagination [here](https://docs.openalex.org/how-to-use-the-api/get-lists-of-entities/paging#cursor-paging).\n",
    ">\n",
    "> 2. **Data Storage:** Organize the retrieved information into two Pandas DataFrames and save them to two files in a suitable format:\n",
    ">    - The *IC2S2 papers* dataset should include: *id, publication\\_year, cited\\_by\\_count, author\\_ids*.\n",
    ">    - The *IC2S2 abstracts* dataset should include: *id, title, abstract\\_inverted\\_index*.\n",
    ">  \n",
    ">\n",
    "> **Filters:**\n",
    "> To ensure the data we collect is relevant and manageable, apply the following filters:\n",
    "> \n",
    ">    - Only include *IC2S2 authors* with a total work count between 5 and 5,000.\n",
    ">    - Retrieve only works that have received more than 10 citations.\n",
    ">    - Limit to works authored by fewer than 10 individuals.\n",
    ">    - Include only works relevant to Computational Social Science (focusing on: Sociology OR Psychology OR Economics OR Political Science) AND intersecting with a quantitative discipline (Mathematics OR Physics OR Computer Science), as defined by their [Concepts](https://docs.openalex.org/api-entities/works/work-object#concepts). *Note*: here we only consider Concepts at *level=0* (the most coarse definition of concepts). \n",
    ">\n",
    "> **Efficiency Tips:**\n",
    "> Writing efficient code in this exercise is **crucial**. To speed up your process:\n",
    "> - **Apply filters directly in your request:** When possible, use the [filter parameter](https://docs.openalex.org/api-entities/works/filter-works) of the *works* endpoint to apply the filters above directly in your API request, ensuring only relevant data is returned. Learn about combining multiple filters [here](https://docs.openalex.org/how-to-use-the-api/get-lists-of-entities/filter-entity-lists).  \n",
    "> - **Bulk requests:** Instead of sending one request for each author, you can use the [filter parameter](https://docs.openalex.org/api-entities/works/filter-works) to query works by multiple authors in a single request. *Note: My testing suggests that can only include up to 25 authors per request.*\n",
    "> - **Use multiprocessing:** Implement multiprocessing to handle multiple requests simultaneously. I highly recommend [Joblib’s Parallel](https://joblib.readthedocs.io/en/stable/) function for that, and [tqdm](https://tqdm.github.io/) can help monitor progress of your jobs. Remember to stay within [the rate limit](https://docs.openalex.org/how-to-use-the-api/rate-limits-and-authentication) of 10 requests per second.\n",
    ">\n",
    ">\n",
    ">   \n",
    "> For reference, employing these strategies allowed me to fetch the data in about 30 seconds using 5 cores on my laptop. I obtained a dataset of approximately 25 MB (including both the *IC2S2 abstracts* and *IC2S2 papers* files)."
   ]
  },
  {
   "cell_type": "markdown",
   "metadata": {},
   "source": [
    "### Defining our dataframes, filtering id's for concepts and our dataframe from week 2"
   ]
  },
  {
   "cell_type": "code",
   "execution_count": 1,
   "metadata": {},
   "outputs": [],
   "source": [
    "import pickle \n",
    "import requests\n",
    "import pandas as pd\n",
    "from joblib import Parallel, delayed\n",
    "from tqdm import tqdm\n",
    "import time\n",
    "\n",
    "#ID's for concepts: \n",
    "id_soc = 'https://openalex.org/C144024400'\n",
    "id_psyc = 'https://openalex.org/C15744967'\n",
    "id_econ = 'https://openalex.org/C162324750'\n",
    "id_pol = \"https://openalex.org/C17744445\"\n",
    "id_math = \"https://openalex.org/C33923547\"\n",
    "id_physics = \"https://openalex.org/C121332964\"\n",
    "id_cs = \"https://openalex.org/C41008148\"\n",
    "\n",
    "#Loading the authors dataframe from week 2: \n",
    "with open(\"final_dataframe.pkl\", \"rb\") as f: \n",
    "    data = pickle.load(f)\n",
    "\n",
    "#filtering works_count \n",
    "data = data[( data[\"works_count\"] < 5000) & ( data[\"works_count\"] > 5)]\n",
    "\n",
    "#Initializing two empty dataframes for holding the data: \n",
    "paperdata = pd.DataFrame(columns = [\"id\", \"publication_year\", \"cited_by_count\", \"author_ids\"])\n",
    "abstractdata = pd.DataFrame(columns = [\"id\", \"title\", \"abstract_inverted\"])"
   ]
  },
  {
   "cell_type": "markdown",
   "metadata": {},
   "source": [
    "### Defining our data fetch function"
   ]
  },
  {
   "cell_type": "code",
   "execution_count": null,
   "metadata": {},
   "outputs": [
    {
     "name": "stderr",
     "output_type": "stream",
     "text": [
      "100%|██████████| 10/10 [01:09<00:00,  6.99s/it]\n"
     ]
    }
   ],
   "source": [
    "def fetch_data(urls):\n",
    "    url = f\"https://api.openalex.org/works?filter=author.id:({ '|'.join([u.split(\"id:\")[1] for u in urls]) })\" \n",
    "    full_url = f\"{url},cited_by_count:>10,authors_count:<10,concept.id:{id_soc}|{id_psyc}|{id_econ}|{id_pol}),concept.id:({id_math}|{id_physics}|{id_cs})\"\n",
    "    results_p, results_a = [], []\n",
    "\n",
    "    retries = 3\n",
    "    while retries > 0:\n",
    "        try:\n",
    "            response = requests.get(full_url + \"&per-page=200&cursor=*\").json() \n",
    "            \n",
    "            while response.get(\"results\"):\n",
    "                for res in response[\"results\"]:\n",
    "                    results_p.append({\n",
    "                        \"id\": res[\"id\"],\n",
    "                        \"publication_year\": res[\"publication_year\"],\n",
    "                        \"cited_by_count\": res[\"cited_by_count\"],\n",
    "                        \"author_ids\": [aut[\"author\"][\"id\"] for aut in res[\"authorships\"]]\n",
    "                    })\n",
    "                    results_a.append({\n",
    "                        \"id\": res[\"id\"],\n",
    "                        \"title\": res[\"title\"],\n",
    "                        \"abstract_inverted\": res.get(\"abstract_inverted_index\", {})\n",
    "                    })\n",
    "                \n",
    "                next_cursor = response[\"meta\"].get(\"next_cursor\")\n",
    "                if not next_cursor:\n",
    "                    break\n",
    "                \n",
    "                time.sleep(1)\n",
    "                response = requests.get(full_url + f\"&per-page=200&cursor={next_cursor}\").json()\n",
    "\n",
    "            return results_p, results_a\n",
    "        \n",
    "        except Exception as e:\n",
    "            print(f\"Error fetching {url}: {e}\")\n",
    "            retries -= 1\n",
    "            time.sleep(1)\n",
    "\n",
    "    return [], []\n",
    "\n",
    "# Parallel processing\n",
    "batch_size = 5\n",
    "for i in tqdm(range(0, len(data[\"works_api_url\"]), 100)):\n",
    "    batch_urls = data[\"works_api_url\"][i:i+100].tolist()\n",
    "    urls = [batch_urls[i:i+20] for i in range(0,100,20)]\n",
    "\n",
    "    results = Parallel(n_jobs=batch_size)(\n",
    "        delayed(fetch_data)(url) for url in urls\n",
    "    )\n",
    "\n",
    "    for p, a in results:\n",
    "        if p and a:\n",
    "            paperdata = pd.concat([paperdata, pd.DataFrame(p)], ignore_index=True)\n",
    "            abstractdata = pd.concat([abstractdata, pd.DataFrame(a)], ignore_index=True)\n",
    "\n",
    "    time.sleep(1)"
   ]
  },
  {
   "cell_type": "markdown",
   "metadata": {},
   "source": [
    "> **Data Overview and Reflection questions:** Answer the following questions: \n",
    "> - **Dataset summary.** How many works are listed in your *IC2S2 papers* dataframe? How many unique researchers have co-authored these works? "
   ]
  },
  {
   "cell_type": "code",
   "execution_count": 4,
   "metadata": {},
   "outputs": [
    {
     "name": "stdout",
     "output_type": "stream",
     "text": [
      "I found this many unique papers:  11666\n",
      "I found this many unique researches to have co-authored the works:  17845\n"
     ]
    }
   ],
   "source": [
    "authors = set()\n",
    "for row in paperdata[\"author_ids\"]: \n",
    "    for aut in row: \n",
    "        authors.add(aut)\n",
    "print(\"I found this many unique papers: \", (paperdata[\"id\"].unique().shape)[0] )\n",
    "print(\"I found this many unique researches to have co-authored the works: \",len(authors))"
   ]
  },
  {
   "cell_type": "markdown",
   "metadata": {},
   "source": [
    "> - **Efficiency in code.** Describe the strategies you implemented to make your code more efficient. How did your approach affect your code's execution time?"
   ]
  },
  {
   "cell_type": "markdown",
   "metadata": {},
   "source": [
    "The first attempt to retrieve the dataframes ran for 30 minutes looping through each name, without filtering directly in the api call. In the second version, the library job_lib was implemented allowing parallel requests, and filters where implemented directly in the api call. This got the running time down to around 5 minutes. \n",
    "\n",
    "Lastly, filtering up to 25 authors at a time with 5 parallel jobs resulted in a runtime around 1 minute, using a Macbook M1 pro"
   ]
  },
  {
   "cell_type": "markdown",
   "metadata": {},
   "source": [
    "> - **Filtering Criteria and Dataset Relevance** Reflect on the rationale behind setting specific thresholds for the total number of works by an author, the citation count, the number of authors per work, and the relevance of works to specific fields. How do these filtering criteria contribute to the relevance of the dataset you compiled? Do you believe any aspects of Computational Social Science research might be underrepresented or overrepresented as a result of these choices?"
   ]
  },
  {
   "cell_type": "markdown",
   "metadata": {},
   "source": [
    "Applying the filters significantly impacts the relevance and balance of the dataset. By setting a lower and upper bound of 5 and 5000 for the total number of works by an author, we ensure that the included authors have experience in the field while also preventing dominance by specific authors. This avoids overrepresenting highly established researchers while still ensuring that authors contributing actively are included. \n",
    "\n",
    "Filtering for citation count above 10 also works well for including relevant research papers, but this could unintentionally underrepresent emerging studies creating a bias towards older and widely discussed topics. \n",
    "\n",
    "Additionally, filtering for specific fields ensures that the papers in our dataset remains relevant for computational social science studies, while still accounting for papers categorized under other scientific diciplines. While our goal is to highlight computational social studies, we can risk underrepresenting the more classical social studies, that are not being labeled under categories such as CS or Math at concept level=0, but still using data science tools for their study."
   ]
  },
  {
   "cell_type": "markdown",
   "metadata": {},
   "source": [
    "# `Part 4:` The Network of Computational Social Scientists"
   ]
  }
 ],
 "metadata": {
  "kernelspec": {
   "display_name": "Python 3",
   "language": "python",
   "name": "python3"
  },
  "language_info": {
   "codemirror_mode": {
    "name": "ipython",
    "version": 3
   },
   "file_extension": ".py",
   "mimetype": "text/x-python",
   "name": "python",
   "nbconvert_exporter": "python",
   "pygments_lexer": "ipython3",
   "version": "3.12.8"
  }
 },
 "nbformat": 4,
 "nbformat_minor": 2
}
