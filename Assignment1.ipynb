{
 "cells": [
  {
   "cell_type": "markdown",
   "metadata": {},
   "source": [
    "| Assignment 1 contribution table   | Teis Aggerholm (s234822) | Andreas Holm Matthiassen (s234838) | Hector Helt Jakobsen (s234822) |\n",
    "|-------------|---------|---------|---------|\n",
    "| Part 1 | 100%     | 0%     | 0%     |\n",
    "| Part 2 | 100%     | 0%     | 0%     |\n",
    "| Part 3 | 0%     | 0%     | 100%     |\n",
    "| Part 4 | 0%     | 100%     | 0%     |"
   ]
  },
  {
   "cell_type": "markdown",
   "metadata": {},
   "source": [
    "Link to our GitHub repository: `https://github.com/Andreas-Holm-2/02467-Assignment-1`"
   ]
  },
  {
   "cell_type": "markdown",
   "metadata": {},
   "source": [
    "# `Part 1:` Web-scraping"
   ]
  },
  {
   "cell_type": "markdown",
   "metadata": {},
   "source": [
    "# `Part 2:` Ready Made vs Custom Made Data\n"
   ]
  },
  {
   "cell_type": "markdown",
   "metadata": {},
   "source": [
    "# `Part 3:` Gathering Research Articles using the OpenAlex API"
   ]
  },
  {
   "cell_type": "markdown",
   "metadata": {},
   "source": [
    "# `Part 4:` The Network of Computational Social Scientists"
   ]
  }
 ],
 "metadata": {
  "language_info": {
   "name": "python"
  }
 },
 "nbformat": 4,
 "nbformat_minor": 2
}
